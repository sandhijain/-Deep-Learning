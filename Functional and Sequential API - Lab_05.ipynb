{
  "nbformat": 4,
  "nbformat_minor": 0,
  "metadata": {
    "colab": {
      "provenance": []
    },
    "kernelspec": {
      "name": "python3",
      "display_name": "Python 3"
    },
    "language_info": {
      "name": "python"
    },
    "accelerator": "GPU",
    "gpuClass": "standard"
  },
  "cells": [
    {
      "cell_type": "code",
      "execution_count": null,
      "metadata": {
        "id": "lkx1gQzAt3Wt"
      },
      "outputs": [],
      "source": [
        "import numpy as np\n",
        "import tensorflow as tf\n",
        "from tensorflow import keras\n",
        "from tensorflow.keras import layers\n",
        "import matplotlib.pyplot as plt\n",
        "import sklearn\n",
        "import pandas as pd\n",
        "\n"
      ]
    },
    {
      "cell_type": "code",
      "source": [
        "from sklearn.datasets import fetch_california_housing\n",
        "\n",
        "california_housing = fetch_california_housing(as_frame=True)"
      ],
      "metadata": {
        "id": "IqqbhdtJz9ur"
      },
      "execution_count": null,
      "outputs": []
    },
    {
      "cell_type": "code",
      "source": [
        "california_housing.frame.head()"
      ],
      "metadata": {
        "colab": {
          "base_uri": "https://localhost:8080/",
          "height": 206
        },
        "id": "zsbwKYCQz-j6",
        "outputId": "ab225ff5-6fba-45ca-f661-37e94048b3d0"
      },
      "execution_count": null,
      "outputs": [
        {
          "output_type": "execute_result",
          "data": {
            "text/plain": [
              "   MedInc  HouseAge  AveRooms  AveBedrms  Population  AveOccup  Latitude  \\\n",
              "0  8.3252      41.0  6.984127   1.023810       322.0  2.555556     37.88   \n",
              "1  8.3014      21.0  6.238137   0.971880      2401.0  2.109842     37.86   \n",
              "2  7.2574      52.0  8.288136   1.073446       496.0  2.802260     37.85   \n",
              "3  5.6431      52.0  5.817352   1.073059       558.0  2.547945     37.85   \n",
              "4  3.8462      52.0  6.281853   1.081081       565.0  2.181467     37.85   \n",
              "\n",
              "   Longitude  MedHouseVal  \n",
              "0    -122.23        4.526  \n",
              "1    -122.22        3.585  \n",
              "2    -122.24        3.521  \n",
              "3    -122.25        3.413  \n",
              "4    -122.25        3.422  "
            ],
            "text/html": [
              "\n",
              "  <div id=\"df-2ee8cb0a-ebb6-4ab4-bad8-76325ed23f11\">\n",
              "    <div class=\"colab-df-container\">\n",
              "      <div>\n",
              "<style scoped>\n",
              "    .dataframe tbody tr th:only-of-type {\n",
              "        vertical-align: middle;\n",
              "    }\n",
              "\n",
              "    .dataframe tbody tr th {\n",
              "        vertical-align: top;\n",
              "    }\n",
              "\n",
              "    .dataframe thead th {\n",
              "        text-align: right;\n",
              "    }\n",
              "</style>\n",
              "<table border=\"1\" class=\"dataframe\">\n",
              "  <thead>\n",
              "    <tr style=\"text-align: right;\">\n",
              "      <th></th>\n",
              "      <th>MedInc</th>\n",
              "      <th>HouseAge</th>\n",
              "      <th>AveRooms</th>\n",
              "      <th>AveBedrms</th>\n",
              "      <th>Population</th>\n",
              "      <th>AveOccup</th>\n",
              "      <th>Latitude</th>\n",
              "      <th>Longitude</th>\n",
              "      <th>MedHouseVal</th>\n",
              "    </tr>\n",
              "  </thead>\n",
              "  <tbody>\n",
              "    <tr>\n",
              "      <th>0</th>\n",
              "      <td>8.3252</td>\n",
              "      <td>41.0</td>\n",
              "      <td>6.984127</td>\n",
              "      <td>1.023810</td>\n",
              "      <td>322.0</td>\n",
              "      <td>2.555556</td>\n",
              "      <td>37.88</td>\n",
              "      <td>-122.23</td>\n",
              "      <td>4.526</td>\n",
              "    </tr>\n",
              "    <tr>\n",
              "      <th>1</th>\n",
              "      <td>8.3014</td>\n",
              "      <td>21.0</td>\n",
              "      <td>6.238137</td>\n",
              "      <td>0.971880</td>\n",
              "      <td>2401.0</td>\n",
              "      <td>2.109842</td>\n",
              "      <td>37.86</td>\n",
              "      <td>-122.22</td>\n",
              "      <td>3.585</td>\n",
              "    </tr>\n",
              "    <tr>\n",
              "      <th>2</th>\n",
              "      <td>7.2574</td>\n",
              "      <td>52.0</td>\n",
              "      <td>8.288136</td>\n",
              "      <td>1.073446</td>\n",
              "      <td>496.0</td>\n",
              "      <td>2.802260</td>\n",
              "      <td>37.85</td>\n",
              "      <td>-122.24</td>\n",
              "      <td>3.521</td>\n",
              "    </tr>\n",
              "    <tr>\n",
              "      <th>3</th>\n",
              "      <td>5.6431</td>\n",
              "      <td>52.0</td>\n",
              "      <td>5.817352</td>\n",
              "      <td>1.073059</td>\n",
              "      <td>558.0</td>\n",
              "      <td>2.547945</td>\n",
              "      <td>37.85</td>\n",
              "      <td>-122.25</td>\n",
              "      <td>3.413</td>\n",
              "    </tr>\n",
              "    <tr>\n",
              "      <th>4</th>\n",
              "      <td>3.8462</td>\n",
              "      <td>52.0</td>\n",
              "      <td>6.281853</td>\n",
              "      <td>1.081081</td>\n",
              "      <td>565.0</td>\n",
              "      <td>2.181467</td>\n",
              "      <td>37.85</td>\n",
              "      <td>-122.25</td>\n",
              "      <td>3.422</td>\n",
              "    </tr>\n",
              "  </tbody>\n",
              "</table>\n",
              "</div>\n",
              "      <button class=\"colab-df-convert\" onclick=\"convertToInteractive('df-2ee8cb0a-ebb6-4ab4-bad8-76325ed23f11')\"\n",
              "              title=\"Convert this dataframe to an interactive table.\"\n",
              "              style=\"display:none;\">\n",
              "        \n",
              "  <svg xmlns=\"http://www.w3.org/2000/svg\" height=\"24px\"viewBox=\"0 0 24 24\"\n",
              "       width=\"24px\">\n",
              "    <path d=\"M0 0h24v24H0V0z\" fill=\"none\"/>\n",
              "    <path d=\"M18.56 5.44l.94 2.06.94-2.06 2.06-.94-2.06-.94-.94-2.06-.94 2.06-2.06.94zm-11 1L8.5 8.5l.94-2.06 2.06-.94-2.06-.94L8.5 2.5l-.94 2.06-2.06.94zm10 10l.94 2.06.94-2.06 2.06-.94-2.06-.94-.94-2.06-.94 2.06-2.06.94z\"/><path d=\"M17.41 7.96l-1.37-1.37c-.4-.4-.92-.59-1.43-.59-.52 0-1.04.2-1.43.59L10.3 9.45l-7.72 7.72c-.78.78-.78 2.05 0 2.83L4 21.41c.39.39.9.59 1.41.59.51 0 1.02-.2 1.41-.59l7.78-7.78 2.81-2.81c.8-.78.8-2.07 0-2.86zM5.41 20L4 18.59l7.72-7.72 1.47 1.35L5.41 20z\"/>\n",
              "  </svg>\n",
              "      </button>\n",
              "      \n",
              "  <style>\n",
              "    .colab-df-container {\n",
              "      display:flex;\n",
              "      flex-wrap:wrap;\n",
              "      gap: 12px;\n",
              "    }\n",
              "\n",
              "    .colab-df-convert {\n",
              "      background-color: #E8F0FE;\n",
              "      border: none;\n",
              "      border-radius: 50%;\n",
              "      cursor: pointer;\n",
              "      display: none;\n",
              "      fill: #1967D2;\n",
              "      height: 32px;\n",
              "      padding: 0 0 0 0;\n",
              "      width: 32px;\n",
              "    }\n",
              "\n",
              "    .colab-df-convert:hover {\n",
              "      background-color: #E2EBFA;\n",
              "      box-shadow: 0px 1px 2px rgba(60, 64, 67, 0.3), 0px 1px 3px 1px rgba(60, 64, 67, 0.15);\n",
              "      fill: #174EA6;\n",
              "    }\n",
              "\n",
              "    [theme=dark] .colab-df-convert {\n",
              "      background-color: #3B4455;\n",
              "      fill: #D2E3FC;\n",
              "    }\n",
              "\n",
              "    [theme=dark] .colab-df-convert:hover {\n",
              "      background-color: #434B5C;\n",
              "      box-shadow: 0px 1px 3px 1px rgba(0, 0, 0, 0.15);\n",
              "      filter: drop-shadow(0px 1px 2px rgba(0, 0, 0, 0.3));\n",
              "      fill: #FFFFFF;\n",
              "    }\n",
              "  </style>\n",
              "\n",
              "      <script>\n",
              "        const buttonEl =\n",
              "          document.querySelector('#df-2ee8cb0a-ebb6-4ab4-bad8-76325ed23f11 button.colab-df-convert');\n",
              "        buttonEl.style.display =\n",
              "          google.colab.kernel.accessAllowed ? 'block' : 'none';\n",
              "\n",
              "        async function convertToInteractive(key) {\n",
              "          const element = document.querySelector('#df-2ee8cb0a-ebb6-4ab4-bad8-76325ed23f11');\n",
              "          const dataTable =\n",
              "            await google.colab.kernel.invokeFunction('convertToInteractive',\n",
              "                                                     [key], {});\n",
              "          if (!dataTable) return;\n",
              "\n",
              "          const docLinkHtml = 'Like what you see? Visit the ' +\n",
              "            '<a target=\"_blank\" href=https://colab.research.google.com/notebooks/data_table.ipynb>data table notebook</a>'\n",
              "            + ' to learn more about interactive tables.';\n",
              "          element.innerHTML = '';\n",
              "          dataTable['output_type'] = 'display_data';\n",
              "          await google.colab.output.renderOutput(dataTable, element);\n",
              "          const docLink = document.createElement('div');\n",
              "          docLink.innerHTML = docLinkHtml;\n",
              "          element.appendChild(docLink);\n",
              "        }\n",
              "      </script>\n",
              "    </div>\n",
              "  </div>\n",
              "  "
            ]
          },
          "metadata": {},
          "execution_count": 65
        }
      ]
    },
    {
      "cell_type": "code",
      "source": [
        "california_housing.data.head()"
      ],
      "metadata": {
        "colab": {
          "base_uri": "https://localhost:8080/",
          "height": 206
        },
        "id": "UTRsw4nv0Db5",
        "outputId": "d4ac9cc6-8344-44c0-c455-81d087a2d460"
      },
      "execution_count": null,
      "outputs": [
        {
          "output_type": "execute_result",
          "data": {
            "text/plain": [
              "   MedInc  HouseAge  AveRooms  AveBedrms  Population  AveOccup  Latitude  \\\n",
              "0  8.3252      41.0  6.984127   1.023810       322.0  2.555556     37.88   \n",
              "1  8.3014      21.0  6.238137   0.971880      2401.0  2.109842     37.86   \n",
              "2  7.2574      52.0  8.288136   1.073446       496.0  2.802260     37.85   \n",
              "3  5.6431      52.0  5.817352   1.073059       558.0  2.547945     37.85   \n",
              "4  3.8462      52.0  6.281853   1.081081       565.0  2.181467     37.85   \n",
              "\n",
              "   Longitude  \n",
              "0    -122.23  \n",
              "1    -122.22  \n",
              "2    -122.24  \n",
              "3    -122.25  \n",
              "4    -122.25  "
            ],
            "text/html": [
              "\n",
              "  <div id=\"df-e92811d1-f623-415c-b16f-fe2b75ae61bd\">\n",
              "    <div class=\"colab-df-container\">\n",
              "      <div>\n",
              "<style scoped>\n",
              "    .dataframe tbody tr th:only-of-type {\n",
              "        vertical-align: middle;\n",
              "    }\n",
              "\n",
              "    .dataframe tbody tr th {\n",
              "        vertical-align: top;\n",
              "    }\n",
              "\n",
              "    .dataframe thead th {\n",
              "        text-align: right;\n",
              "    }\n",
              "</style>\n",
              "<table border=\"1\" class=\"dataframe\">\n",
              "  <thead>\n",
              "    <tr style=\"text-align: right;\">\n",
              "      <th></th>\n",
              "      <th>MedInc</th>\n",
              "      <th>HouseAge</th>\n",
              "      <th>AveRooms</th>\n",
              "      <th>AveBedrms</th>\n",
              "      <th>Population</th>\n",
              "      <th>AveOccup</th>\n",
              "      <th>Latitude</th>\n",
              "      <th>Longitude</th>\n",
              "    </tr>\n",
              "  </thead>\n",
              "  <tbody>\n",
              "    <tr>\n",
              "      <th>0</th>\n",
              "      <td>8.3252</td>\n",
              "      <td>41.0</td>\n",
              "      <td>6.984127</td>\n",
              "      <td>1.023810</td>\n",
              "      <td>322.0</td>\n",
              "      <td>2.555556</td>\n",
              "      <td>37.88</td>\n",
              "      <td>-122.23</td>\n",
              "    </tr>\n",
              "    <tr>\n",
              "      <th>1</th>\n",
              "      <td>8.3014</td>\n",
              "      <td>21.0</td>\n",
              "      <td>6.238137</td>\n",
              "      <td>0.971880</td>\n",
              "      <td>2401.0</td>\n",
              "      <td>2.109842</td>\n",
              "      <td>37.86</td>\n",
              "      <td>-122.22</td>\n",
              "    </tr>\n",
              "    <tr>\n",
              "      <th>2</th>\n",
              "      <td>7.2574</td>\n",
              "      <td>52.0</td>\n",
              "      <td>8.288136</td>\n",
              "      <td>1.073446</td>\n",
              "      <td>496.0</td>\n",
              "      <td>2.802260</td>\n",
              "      <td>37.85</td>\n",
              "      <td>-122.24</td>\n",
              "    </tr>\n",
              "    <tr>\n",
              "      <th>3</th>\n",
              "      <td>5.6431</td>\n",
              "      <td>52.0</td>\n",
              "      <td>5.817352</td>\n",
              "      <td>1.073059</td>\n",
              "      <td>558.0</td>\n",
              "      <td>2.547945</td>\n",
              "      <td>37.85</td>\n",
              "      <td>-122.25</td>\n",
              "    </tr>\n",
              "    <tr>\n",
              "      <th>4</th>\n",
              "      <td>3.8462</td>\n",
              "      <td>52.0</td>\n",
              "      <td>6.281853</td>\n",
              "      <td>1.081081</td>\n",
              "      <td>565.0</td>\n",
              "      <td>2.181467</td>\n",
              "      <td>37.85</td>\n",
              "      <td>-122.25</td>\n",
              "    </tr>\n",
              "  </tbody>\n",
              "</table>\n",
              "</div>\n",
              "      <button class=\"colab-df-convert\" onclick=\"convertToInteractive('df-e92811d1-f623-415c-b16f-fe2b75ae61bd')\"\n",
              "              title=\"Convert this dataframe to an interactive table.\"\n",
              "              style=\"display:none;\">\n",
              "        \n",
              "  <svg xmlns=\"http://www.w3.org/2000/svg\" height=\"24px\"viewBox=\"0 0 24 24\"\n",
              "       width=\"24px\">\n",
              "    <path d=\"M0 0h24v24H0V0z\" fill=\"none\"/>\n",
              "    <path d=\"M18.56 5.44l.94 2.06.94-2.06 2.06-.94-2.06-.94-.94-2.06-.94 2.06-2.06.94zm-11 1L8.5 8.5l.94-2.06 2.06-.94-2.06-.94L8.5 2.5l-.94 2.06-2.06.94zm10 10l.94 2.06.94-2.06 2.06-.94-2.06-.94-.94-2.06-.94 2.06-2.06.94z\"/><path d=\"M17.41 7.96l-1.37-1.37c-.4-.4-.92-.59-1.43-.59-.52 0-1.04.2-1.43.59L10.3 9.45l-7.72 7.72c-.78.78-.78 2.05 0 2.83L4 21.41c.39.39.9.59 1.41.59.51 0 1.02-.2 1.41-.59l7.78-7.78 2.81-2.81c.8-.78.8-2.07 0-2.86zM5.41 20L4 18.59l7.72-7.72 1.47 1.35L5.41 20z\"/>\n",
              "  </svg>\n",
              "      </button>\n",
              "      \n",
              "  <style>\n",
              "    .colab-df-container {\n",
              "      display:flex;\n",
              "      flex-wrap:wrap;\n",
              "      gap: 12px;\n",
              "    }\n",
              "\n",
              "    .colab-df-convert {\n",
              "      background-color: #E8F0FE;\n",
              "      border: none;\n",
              "      border-radius: 50%;\n",
              "      cursor: pointer;\n",
              "      display: none;\n",
              "      fill: #1967D2;\n",
              "      height: 32px;\n",
              "      padding: 0 0 0 0;\n",
              "      width: 32px;\n",
              "    }\n",
              "\n",
              "    .colab-df-convert:hover {\n",
              "      background-color: #E2EBFA;\n",
              "      box-shadow: 0px 1px 2px rgba(60, 64, 67, 0.3), 0px 1px 3px 1px rgba(60, 64, 67, 0.15);\n",
              "      fill: #174EA6;\n",
              "    }\n",
              "\n",
              "    [theme=dark] .colab-df-convert {\n",
              "      background-color: #3B4455;\n",
              "      fill: #D2E3FC;\n",
              "    }\n",
              "\n",
              "    [theme=dark] .colab-df-convert:hover {\n",
              "      background-color: #434B5C;\n",
              "      box-shadow: 0px 1px 3px 1px rgba(0, 0, 0, 0.15);\n",
              "      filter: drop-shadow(0px 1px 2px rgba(0, 0, 0, 0.3));\n",
              "      fill: #FFFFFF;\n",
              "    }\n",
              "  </style>\n",
              "\n",
              "      <script>\n",
              "        const buttonEl =\n",
              "          document.querySelector('#df-e92811d1-f623-415c-b16f-fe2b75ae61bd button.colab-df-convert');\n",
              "        buttonEl.style.display =\n",
              "          google.colab.kernel.accessAllowed ? 'block' : 'none';\n",
              "\n",
              "        async function convertToInteractive(key) {\n",
              "          const element = document.querySelector('#df-e92811d1-f623-415c-b16f-fe2b75ae61bd');\n",
              "          const dataTable =\n",
              "            await google.colab.kernel.invokeFunction('convertToInteractive',\n",
              "                                                     [key], {});\n",
              "          if (!dataTable) return;\n",
              "\n",
              "          const docLinkHtml = 'Like what you see? Visit the ' +\n",
              "            '<a target=\"_blank\" href=https://colab.research.google.com/notebooks/data_table.ipynb>data table notebook</a>'\n",
              "            + ' to learn more about interactive tables.';\n",
              "          element.innerHTML = '';\n",
              "          dataTable['output_type'] = 'display_data';\n",
              "          await google.colab.output.renderOutput(dataTable, element);\n",
              "          const docLink = document.createElement('div');\n",
              "          docLink.innerHTML = docLinkHtml;\n",
              "          element.appendChild(docLink);\n",
              "        }\n",
              "      </script>\n",
              "    </div>\n",
              "  </div>\n",
              "  "
            ]
          },
          "metadata": {},
          "execution_count": 66
        }
      ]
    },
    {
      "cell_type": "code",
      "source": [
        "california_housing.target.head()"
      ],
      "metadata": {
        "colab": {
          "base_uri": "https://localhost:8080/"
        },
        "id": "1gAQ2Cto0JLK",
        "outputId": "73af4652-e995-4e37-dc45-5a1f9d2be87e"
      },
      "execution_count": null,
      "outputs": [
        {
          "output_type": "execute_result",
          "data": {
            "text/plain": [
              "0    4.526\n",
              "1    3.585\n",
              "2    3.521\n",
              "3    3.413\n",
              "4    3.422\n",
              "Name: MedHouseVal, dtype: float64"
            ]
          },
          "metadata": {},
          "execution_count": 67
        }
      ]
    },
    {
      "cell_type": "code",
      "source": [
        "california_housing = fetch_california_housing()\n",
        "x = california_housing['data']\n",
        "y = california_housing['target']"
      ],
      "metadata": {
        "id": "0vpvmEt20Q9C"
      },
      "execution_count": null,
      "outputs": []
    },
    {
      "cell_type": "code",
      "source": [
        "from sklearn.model_selection import train_test_split\n",
        "x_train,x_test,y_train,y_test = train_test_split(x, y, test_size=0.75, random_state=42)"
      ],
      "metadata": {
        "id": "coy1upke0rZo"
      },
      "execution_count": null,
      "outputs": []
    },
    {
      "cell_type": "code",
      "source": [
        "from sklearn.preprocessing import MinMaxScaler\n",
        "scaler = MinMaxScaler()\n",
        "x = scaler.fit_transform(x)"
      ],
      "metadata": {
        "id": "ZsEvVFEX04Iw"
      },
      "execution_count": null,
      "outputs": []
    },
    {
      "cell_type": "code",
      "source": [
        "x_train.shape[1]"
      ],
      "metadata": {
        "colab": {
          "base_uri": "https://localhost:8080/"
        },
        "id": "_fiaVpsTSMPu",
        "outputId": "399e7397-213b-4b07-bb4a-620073201fdf"
      },
      "execution_count": null,
      "outputs": [
        {
          "output_type": "execute_result",
          "data": {
            "text/plain": [
              "8"
            ]
          },
          "metadata": {},
          "execution_count": 71
        }
      ]
    },
    {
      "cell_type": "markdown",
      "source": [
        "SEQUENTIAL MODEL:"
      ],
      "metadata": {
        "id": "ho7Uov_H60yJ"
      }
    },
    {
      "cell_type": "code",
      "source": [
        "model = tf.keras.Sequential()\n",
        "model.add(tf.keras.layers.Dense(30, activation='relu'))\n",
        "model.add(tf.keras.layers.Dense(1))\n",
        "\n",
        " "
      ],
      "metadata": {
        "id": "OXme9Ios0_IS"
      },
      "execution_count": null,
      "outputs": []
    },
    {
      "cell_type": "code",
      "source": [
        "model.summary()\n",
        "\n"
      ],
      "metadata": {
        "colab": {
          "base_uri": "https://localhost:8080/"
        },
        "id": "qtVfEoSA7pgJ",
        "outputId": "1a161af5-5498-42ff-df15-c3dbeea24d85"
      },
      "execution_count": null,
      "outputs": [
        {
          "output_type": "stream",
          "name": "stdout",
          "text": [
            "Model: \"sequential_5\"\n",
            "_________________________________________________________________\n",
            " Layer (type)                Output Shape              Param #   \n",
            "=================================================================\n",
            " dense_13 (Dense)            (None, 30)                270       \n",
            "                                                                 \n",
            " dense_14 (Dense)            (None, 1)                 31        \n",
            "                                                                 \n",
            "=================================================================\n",
            "Total params: 301\n",
            "Trainable params: 301\n",
            "Non-trainable params: 0\n",
            "_________________________________________________________________\n"
          ]
        }
      ]
    },
    {
      "cell_type": "code",
      "source": [
        "model.compile(optimizer='adam', loss=tf.keras.losses.MeanSquaredError(), metrics=tf.keras.metrics.MeanSquaredError())\n",
        "history= model.fit(x_train,y_train,batch_size=20,epochs=20, validation_split=0.175)"
      ],
      "metadata": {
        "colab": {
          "base_uri": "https://localhost:8080/"
        },
        "id": "J20k82hg2OEL",
        "outputId": "568cd9d4-c08f-49ae-ae61-68289e5765ec"
      },
      "execution_count": null,
      "outputs": [
        {
          "output_type": "stream",
          "name": "stdout",
          "text": [
            "Epoch 1/20\n",
            "213/213 [==============================] - 1s 3ms/step - loss: 1178.7924 - mean_squared_error: 1178.7924 - val_loss: 32.4440 - val_mean_squared_error: 32.4440\n",
            "Epoch 2/20\n",
            "213/213 [==============================] - 1s 3ms/step - loss: 25.6388 - mean_squared_error: 25.6388 - val_loss: 15.6200 - val_mean_squared_error: 15.6200\n",
            "Epoch 3/20\n",
            "213/213 [==============================] - 1s 3ms/step - loss: 14.6792 - mean_squared_error: 14.6792 - val_loss: 8.6440 - val_mean_squared_error: 8.6440\n",
            "Epoch 4/20\n",
            "213/213 [==============================] - 1s 3ms/step - loss: 10.6913 - mean_squared_error: 10.6913 - val_loss: 4.4291 - val_mean_squared_error: 4.4291\n",
            "Epoch 5/20\n",
            "213/213 [==============================] - 1s 3ms/step - loss: 4.5151 - mean_squared_error: 4.5151 - val_loss: 2.3910 - val_mean_squared_error: 2.3910\n",
            "Epoch 6/20\n",
            "213/213 [==============================] - 1s 3ms/step - loss: 5.6535 - mean_squared_error: 5.6535 - val_loss: 1.4703 - val_mean_squared_error: 1.4703\n",
            "Epoch 7/20\n",
            "213/213 [==============================] - 1s 3ms/step - loss: 1.4855 - mean_squared_error: 1.4855 - val_loss: 1.2112 - val_mean_squared_error: 1.2112\n",
            "Epoch 8/20\n",
            "213/213 [==============================] - 1s 3ms/step - loss: 1.1249 - mean_squared_error: 1.1249 - val_loss: 1.1225 - val_mean_squared_error: 1.1225\n",
            "Epoch 9/20\n",
            "213/213 [==============================] - 1s 3ms/step - loss: 1.0999 - mean_squared_error: 1.0999 - val_loss: 1.1683 - val_mean_squared_error: 1.1683\n",
            "Epoch 10/20\n",
            "213/213 [==============================] - 1s 3ms/step - loss: 1.6400 - mean_squared_error: 1.6400 - val_loss: 1.1032 - val_mean_squared_error: 1.1032\n",
            "Epoch 11/20\n",
            "213/213 [==============================] - 1s 3ms/step - loss: 0.9236 - mean_squared_error: 0.9236 - val_loss: 4.8023 - val_mean_squared_error: 4.8023\n",
            "Epoch 12/20\n",
            "213/213 [==============================] - 1s 3ms/step - loss: 2.3727 - mean_squared_error: 2.3727 - val_loss: 0.9437 - val_mean_squared_error: 0.9437\n",
            "Epoch 13/20\n",
            "213/213 [==============================] - 1s 3ms/step - loss: 1.6579 - mean_squared_error: 1.6579 - val_loss: 1.0473 - val_mean_squared_error: 1.0473\n",
            "Epoch 14/20\n",
            "213/213 [==============================] - 1s 3ms/step - loss: 0.9117 - mean_squared_error: 0.9117 - val_loss: 0.9197 - val_mean_squared_error: 0.9197\n",
            "Epoch 15/20\n",
            "213/213 [==============================] - 1s 3ms/step - loss: 1.7201 - mean_squared_error: 1.7201 - val_loss: 3.4723 - val_mean_squared_error: 3.4723\n",
            "Epoch 16/20\n",
            "213/213 [==============================] - 1s 3ms/step - loss: 1.1121 - mean_squared_error: 1.1121 - val_loss: 0.8713 - val_mean_squared_error: 0.8713\n",
            "Epoch 17/20\n",
            "213/213 [==============================] - 1s 3ms/step - loss: 119.6987 - mean_squared_error: 119.6987 - val_loss: 1.1562 - val_mean_squared_error: 1.1562\n",
            "Epoch 18/20\n",
            "213/213 [==============================] - 1s 3ms/step - loss: 0.9810 - mean_squared_error: 0.9810 - val_loss: 0.8969 - val_mean_squared_error: 0.8969\n",
            "Epoch 19/20\n",
            "213/213 [==============================] - 1s 3ms/step - loss: 3.5432 - mean_squared_error: 3.5432 - val_loss: 7.5241 - val_mean_squared_error: 7.5241\n",
            "Epoch 20/20\n",
            "213/213 [==============================] - 1s 3ms/step - loss: 1.5106 - mean_squared_error: 1.5106 - val_loss: 0.8811 - val_mean_squared_error: 0.8811\n"
          ]
        }
      ]
    },
    {
      "cell_type": "code",
      "source": [
        "# Plotting and Visualising\n",
        "\n",
        "modelmse = history.history[\"mean_squared_error\"]\n",
        "modelvmse = history.history[\"val_mean_squared_error\"]\n",
        "modelloss = history.history[\"loss\"]\n",
        "modelvalloss = history.history[\"val_loss\"]\n",
        "epochs_list = range(1,21)\n",
        "\n",
        "plt.plot(epochs_list, modelmse, 'blue', label='Training MSE')\n",
        "plt.plot(epochs_list, modelvmse, 'red', label='Validation MSE')\n",
        "plt.xlabel('Epochs')\n",
        "plt.ylabel('MSE')\n",
        "plt.title('MSE curve with Epochs')\n",
        "plt.legend()\n",
        "plt.show()\n",
        "\n",
        "#Loss Plot\n",
        "plt.plot(epochs_list, modelloss, 'green', label=\"Loss\")\n",
        "plt.plot(epochs_list, modelvalloss, 'purple', label=\"Validation Loss\")\n",
        "plt.xlabel('Epochs')\n",
        "plt.ylabel('Loss')\n",
        "plt.title('Loss curve with Epochs')\n",
        "plt.legend()\n",
        "plt.show()"
      ],
      "metadata": {
        "colab": {
          "base_uri": "https://localhost:8080/",
          "height": 573
        },
        "id": "QX0Wo5lZ4NKh",
        "outputId": "529cf135-0be8-43dc-d8e0-9947e47b1972"
      },
      "execution_count": null,
      "outputs": [
        {
          "output_type": "display_data",
          "data": {
            "text/plain": [
              "<Figure size 432x288 with 1 Axes>"
            ],
            "image/png": "[encoded data removed]"
          },
          "metadata": {
            "needs_background": "light"
          }
        },
        {
          "output_type": "display_data",
          "data": {
            "text/plain": [
              "<Figure size 432x288 with 1 Axes>"
            ],
            "image/png": "[encoded data removed]"
          },
          "metadata": {
            "needs_background": "light"
          }
        }
      ]
    },
    {
      "cell_type": "code",
      "source": [
        "y_pred = model.predict(x_test)\n",
        "\n",
        "from sklearn.metrics import mean_squared_error\n",
        "rms= np.sqrt(mean_squared_error(y_test, y_pred))\n",
        "\n",
        "variation = rms/np.mean(y_test)*100\n",
        "print(\"Root Mean Squared Error is\", rms)\n",
        "print(\"Variation is\",variation)"
      ],
      "metadata": {
        "colab": {
          "base_uri": "https://localhost:8080/"
        },
        "id": "36yIIeLY5KMR",
        "outputId": "dc5dddd2-ab11-4491-9cc4-8f4993aa8b85"
      },
      "execution_count": null,
      "outputs": [
        {
          "output_type": "stream",
          "name": "stdout",
          "text": [
            "Root Mean Squared Error is 1.016972805655956\n",
            "Variation is 49.19619602379845\n"
          ]
        }
      ]
    },
    {
      "cell_type": "code",
      "source": [
        "model.evaluate(x_test, y_test)"
      ],
      "metadata": {
        "colab": {
          "base_uri": "https://localhost:8080/"
        },
        "id": "D8GM6Vj9-Zqo",
        "outputId": "ffd3da15-261d-4391-b59c-c1c0badba5dc"
      },
      "execution_count": null,
      "outputs": [
        {
          "output_type": "stream",
          "name": "stdout",
          "text": [
            "484/484 [==============================] - 1s 2ms/step - loss: 1.0342 - mean_squared_error: 1.0342\n"
          ]
        },
        {
          "output_type": "execute_result",
          "data": {
            "text/plain": [
              "[1.0342340469360352, 1.0342340469360352]"
            ]
          },
          "metadata": {},
          "execution_count": 49
        }
      ]
    },
    {
      "cell_type": "code",
      "source": [
        "x.shape"
      ],
      "metadata": {
        "colab": {
          "base_uri": "https://localhost:8080/"
        },
        "id": "zq3Twp0KJg07",
        "outputId": "c395cd20-979b-46ca-a7d3-6ecadc7346f2"
      },
      "execution_count": null,
      "outputs": [
        {
          "output_type": "execute_result",
          "data": {
            "text/plain": [
              "(20640, 8)"
            ]
          },
          "metadata": {},
          "execution_count": 52
        }
      ]
    },
    {
      "cell_type": "code",
      "source": [
        "x_train.shape"
      ],
      "metadata": {
        "colab": {
          "base_uri": "https://localhost:8080/"
        },
        "id": "InYO29335O_B",
        "outputId": "0d5cecff-ddc9-48ec-f97a-218a294efb9a"
      },
      "execution_count": null,
      "outputs": [
        {
          "output_type": "execute_result",
          "data": {
            "text/plain": [
              "(5160, 8)"
            ]
          },
          "metadata": {},
          "execution_count": 43
        }
      ]
    },
    {
      "cell_type": "markdown",
      "source": [
        "FUNCTIONAL API MODEL:"
      ],
      "metadata": {
        "id": "mppX57K766MI"
      }
    },
    {
      "cell_type": "code",
      "source": [
        "from keras.models import Model\n",
        "from keras.layers import Input\n",
        "from keras.layers import Dense\n",
        "inputA = tf.keras.layers.Input(shape=[5])\n",
        "inputB = tf.keras.layers.Input(shape=[6] )\n",
        "hidden1= tf.keras.layers.Dense(30, activation='relu')(inputB)\n",
        "hidden2 = tf.keras.layers.Dense(30, activation='relu')(hidden1)\n",
        "concat = tf.keras.layers.Concatenate()([hidden2, inputA])\n",
        "outputs = tf.keras.layers.Dense(1, activation='linear')(concat)\n",
        "\n",
        "functional = tf.keras.models.Model(inputs=[inputA,inputB], outputs=outputs)\n",
        "\n",
        "functional.summary()"
      ],
      "metadata": {
        "colab": {
          "base_uri": "https://localhost:8080/"
        },
        "id": "iCMLYNoe5a-e",
        "outputId": "d4af0653-7f38-4f07-baf8-ea343794e964"
      },
      "execution_count": null,
      "outputs": [
        {
          "output_type": "stream",
          "name": "stdout",
          "text": [
            "Model: \"model_4\"\n",
            "__________________________________________________________________________________________________\n",
            " Layer (type)                   Output Shape         Param #     Connected to                     \n",
            "==================================================================================================\n",
            " input_10 (InputLayer)          [(None, 6)]          0           []                               \n",
            "                                                                                                  \n",
            " dense_24 (Dense)               (None, 30)           210         ['input_10[0][0]']               \n",
            "                                                                                                  \n",
            " dense_25 (Dense)               (None, 30)           930         ['dense_24[0][0]']               \n",
            "                                                                                                  \n",
            " input_9 (InputLayer)           [(None, 5)]          0           []                               \n",
            "                                                                                                  \n",
            " concatenate_4 (Concatenate)    (None, 35)           0           ['dense_25[0][0]',               \n",
            "                                                                  'input_9[0][0]']                \n",
            "                                                                                                  \n",
            " dense_26 (Dense)               (None, 1)            36          ['concatenate_4[0][0]']          \n",
            "                                                                                                  \n",
            "==================================================================================================\n",
            "Total params: 1,176\n",
            "Trainable params: 1,176\n",
            "Non-trainable params: 0\n",
            "__________________________________________________________________________________________________\n"
          ]
        }
      ]
    },
    {
      "cell_type": "code",
      "source": [
        "functional.compile(optimizer='adam', loss=tf.keras.losses.MeanSquaredError(), metrics=tf.keras.metrics.MeanSquaredError())\n",
        "f = functional.fit([x_train[:,:5], x_train[:,2:]],y_train,batch_size=20,epochs=20, validation_split=0.175)"
      ],
      "metadata": {
        "colab": {
          "base_uri": "https://localhost:8080/"
        },
        "id": "Ox76UFTV5xjo",
        "outputId": "534c5db2-3597-49b3-ee0d-a6668d1d0a1f"
      },
      "execution_count": null,
      "outputs": [
        {
          "output_type": "stream",
          "name": "stdout",
          "text": [
            "Epoch 1/20\n",
            "213/213 [==============================] - 1s 3ms/step - loss: 413.6277 - mean_squared_error: 413.6277 - val_loss: 7.5784 - val_mean_squared_error: 7.5784\n",
            "Epoch 2/20\n",
            "213/213 [==============================] - 1s 3ms/step - loss: 11.6534 - mean_squared_error: 11.6534 - val_loss: 9.2649 - val_mean_squared_error: 9.2649\n",
            "Epoch 3/20\n",
            "213/213 [==============================] - 1s 3ms/step - loss: 176.8132 - mean_squared_error: 176.8132 - val_loss: 679.4395 - val_mean_squared_error: 679.4395\n",
            "Epoch 4/20\n",
            "213/213 [==============================] - 1s 3ms/step - loss: 23.8255 - mean_squared_error: 23.8255 - val_loss: 6.0485 - val_mean_squared_error: 6.0485\n",
            "Epoch 5/20\n",
            "213/213 [==============================] - 1s 3ms/step - loss: 10.1639 - mean_squared_error: 10.1639 - val_loss: 3.5793 - val_mean_squared_error: 3.5793\n",
            "Epoch 6/20\n",
            "213/213 [==============================] - 1s 3ms/step - loss: 4.1756 - mean_squared_error: 4.1756 - val_loss: 3.0950 - val_mean_squared_error: 3.0950\n",
            "Epoch 7/20\n",
            "213/213 [==============================] - 1s 3ms/step - loss: 10.9466 - mean_squared_error: 10.9466 - val_loss: 6.2742 - val_mean_squared_error: 6.2742\n",
            "Epoch 8/20\n",
            "213/213 [==============================] - 1s 3ms/step - loss: 10.6849 - mean_squared_error: 10.6849 - val_loss: 3.8524 - val_mean_squared_error: 3.8524\n",
            "Epoch 9/20\n",
            "213/213 [==============================] - 1s 3ms/step - loss: 4.3732 - mean_squared_error: 4.3732 - val_loss: 2.0545 - val_mean_squared_error: 2.0545\n",
            "Epoch 10/20\n",
            "213/213 [==============================] - 1s 3ms/step - loss: 3.1088 - mean_squared_error: 3.1088 - val_loss: 2.0274 - val_mean_squared_error: 2.0274\n",
            "Epoch 11/20\n",
            "213/213 [==============================] - 1s 3ms/step - loss: 28.0358 - mean_squared_error: 28.0358 - val_loss: 1.7480 - val_mean_squared_error: 1.7480\n",
            "Epoch 12/20\n",
            "213/213 [==============================] - 1s 3ms/step - loss: 10.5083 - mean_squared_error: 10.5083 - val_loss: 15.0232 - val_mean_squared_error: 15.0232\n",
            "Epoch 13/20\n",
            "213/213 [==============================] - 1s 3ms/step - loss: 12.9923 - mean_squared_error: 12.9923 - val_loss: 2.3777 - val_mean_squared_error: 2.3777\n",
            "Epoch 14/20\n",
            "213/213 [==============================] - 1s 3ms/step - loss: 27.3834 - mean_squared_error: 27.3834 - val_loss: 2.5417 - val_mean_squared_error: 2.5417\n",
            "Epoch 15/20\n",
            "213/213 [==============================] - 1s 3ms/step - loss: 3.4828 - mean_squared_error: 3.4828 - val_loss: 1.9635 - val_mean_squared_error: 1.9635\n",
            "Epoch 16/20\n",
            "213/213 [==============================] - 1s 3ms/step - loss: 76.7097 - mean_squared_error: 76.7097 - val_loss: 1.3320 - val_mean_squared_error: 1.3320\n",
            "Epoch 17/20\n",
            "213/213 [==============================] - 1s 3ms/step - loss: 8.7909 - mean_squared_error: 8.7909 - val_loss: 124.6679 - val_mean_squared_error: 124.6679\n",
            "Epoch 18/20\n",
            "213/213 [==============================] - 1s 3ms/step - loss: 31.8496 - mean_squared_error: 31.8496 - val_loss: 3.2005 - val_mean_squared_error: 3.2005\n",
            "Epoch 19/20\n",
            "213/213 [==============================] - 1s 3ms/step - loss: 139.9042 - mean_squared_error: 139.9042 - val_loss: 1.9320 - val_mean_squared_error: 1.9320\n",
            "Epoch 20/20\n",
            "213/213 [==============================] - 1s 3ms/step - loss: 3.0466 - mean_squared_error: 3.0466 - val_loss: 2.2782 - val_mean_squared_error: 2.2782\n"
          ]
        }
      ]
    },
    {
      "cell_type": "code",
      "source": [
        "# Plotting and Visualising\n",
        "\n",
        "funcmse = f.history[\"mean_squared_error\"]\n",
        "funcvmse = f.history[\"val_mean_squared_error\"]\n",
        "funcloss = f.history[\"loss\"]\n",
        "funcvalloss = f.history[\"val_loss\"]\n",
        "epochs_list = range(1,21)\n",
        "\n",
        "plt.plot(epochs_list, funcmse, 'blue', label='Training MSE')\n",
        "plt.plot(epochs_list, funcvmse, 'red', label='Validation MSE')\n",
        "plt.xlabel('Epochs')\n",
        "plt.ylabel('MSE')\n",
        "plt.title('MSE curve with Epochs')\n",
        "plt.legend()\n",
        "plt.show()\n",
        "\n",
        "#Loss Plot\n",
        "plt.plot(epochs_list, funcloss, 'green', label=\"Loss\")\n",
        "plt.plot(epochs_list, funcvalloss, 'purple', label=\"Validation Loss\")\n",
        "plt.xlabel('Epochs')\n",
        "plt.ylabel('Loss')\n",
        "plt.title('Loss curve with Epochs')\n",
        "plt.legend()\n",
        "plt.show()"
      ],
      "metadata": {
        "colab": {
          "base_uri": "https://localhost:8080/",
          "height": 573
        },
        "id": "LdD94TZS6nCA",
        "outputId": "ad5061e5-e336-4a7e-a4e8-8b32e36815dd"
      },
      "execution_count": null,
      "outputs": [
        {
          "output_type": "display_data",
          "data": {
            "text/plain": [
              "<Figure size 432x288 with 1 Axes>"
            ],
            "image/png": "[encoded data removed]"
          },
          "metadata": {
            "needs_background": "light"
          }
        },
        {
          "output_type": "display_data",
          "data": {
            "text/plain": [
              "<Figure size 432x288 with 1 Axes>"
            ],
            "image/png": "[encoded data removed]"
          },
          "metadata": {
            "needs_background": "light"
          }
        }
      ]
    },
    {
      "cell_type": "code",
      "source": [
        "y_pred_func = functional.predict([x_test[:,:5], x_test[:,2:]])\n",
        "funcrms= np.sqrt(mean_squared_error(y_test, y_pred_func))\n",
        "\n",
        "funcvariation = funcrms/np.mean(y_test)*100\n",
        "print(\"Root Mean Squared Error is\", funcrms)\n",
        "print(\"Variation is\", funcvariation)"
      ],
      "metadata": {
        "colab": {
          "base_uri": "https://localhost:8080/"
        },
        "id": "oypVe-TT6pn5",
        "outputId": "cc05cc46-40fb-4f5e-d421-6b3a526aaecd"
      },
      "execution_count": null,
      "outputs": [
        {
          "output_type": "stream",
          "name": "stdout",
          "text": [
            "Root Mean Squared Error is 1.471747716367964\n",
            "Variation is 71.19599339267941\n"
          ]
        }
      ]
    },
    {
      "cell_type": "markdown",
      "source": [
        "The Accuracy of Sequential model is 49.196 and MSE is 1.0169\n",
        "\n",
        "The Accuracy of Functional Model is 71.959 and MSE is 1.4717\n",
        "\n",
        "Thus, the Functional Model works better on the dataset."
      ],
      "metadata": {
        "id": "P5CIBgUn7R1m"
      }
    }
  ]
}