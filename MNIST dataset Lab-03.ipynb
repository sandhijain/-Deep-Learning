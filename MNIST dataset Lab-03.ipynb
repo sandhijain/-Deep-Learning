{
  "cells": [
    {
      "cell_type": "code",
      "execution_count": 1,
      "metadata": {
        "id": "y_z5tCooXuuo"
      },
      "outputs": [],
      "source": [
        "import tensorflow as tf"
      ]
    },
    {
      "cell_type": "code",
      "execution_count": 2,
      "metadata": {
        "id": "uQvgDbwKT17V"
      },
      "outputs": [],
      "source": [
        "import numpy as np\n",
        "import matplotlib.pyplot as plt\n",
        "import pandas as pd\n",
        "import seaborn as sns"
      ]
    },
    {
      "cell_type": "markdown",
      "metadata": {
        "id": "oXj4vcbKPBsw"
      },
      "source": [
        "MNIST DATASET\n"
      ]
    },
    {
      "cell_type": "code",
      "execution_count": 3,
      "metadata": {
        "id": "v-Jtkpm4T4SZ"
      },
      "outputs": [],
      "source": [
        "mnist = tf.keras.datasets.mnist"
      ]
    },
    {
      "cell_type": "code",
      "execution_count": 4,
      "metadata": {
        "colab": {
          "base_uri": "https://localhost:8080/"
        },
        "id": "K2eYXgV8T_OD",
        "outputId": "9917f0e2-14a4-4763-c11f-e2d34aafba5f"
      },
      "outputs": [
        {
          "name": "stdout",
          "output_type": "stream",
          "text": [
            "Downloading data from https://storage.googleapis.com/tensorflow/tf-keras-datasets/mnist.npz\n",
            "11493376/11490434 [==============================] - 0s 0us/step\n",
            "11501568/11490434 [==============================] - 0s 0us/step\n"
          ]
        }
      ],
      "source": [
        "(x_train_full, y_train_full),(x_test_full,y_test_full) = mnist.load_data() "
      ]
    },
    {
      "cell_type": "markdown",
      "metadata": {
        "id": "YALPbY6TPRO-"
      },
      "source": [
        "Perform Normalization\n"
      ]
    },
    {
      "cell_type": "code",
      "execution_count": 5,
      "metadata": {
        "id": "F8ha0kXoUSZz"
      },
      "outputs": [],
      "source": [
        "x_train_full = x_train_full/255.0\n",
        "x_test_full = x_test_full/255.0"
      ]
    },
    {
      "cell_type": "markdown",
      "metadata": {
        "id": "8V3v8SFyT0Q5"
      },
      "source": [
        "Model 0:"
      ]
    },
    {
      "cell_type": "code",
      "execution_count": 6,
      "metadata": {
        "id": "_8y88UQ2PeP3"
      },
      "outputs": [],
      "source": [
        "model = tf.keras.Sequential()\n",
        "model.add(tf.keras.Input(shape=(28,28,1)))\n",
        "model.add(tf.keras.layers.Conv2D(32, kernel_size=(5,5), activation=\"relu\", padding=\"valid\"))\n",
        "model.add(tf.keras.layers.MaxPooling2D(pool_size=(2,2)))\n",
        "model.add(tf.keras.layers.Flatten())\n",
        "model.add(tf.keras.layers.Dense(100, activation=\"relu\"))\n",
        "model.add(tf.keras.layers.Dense(10,activation=\"softmax\"))"
      ]
    },
    {
      "cell_type": "code",
      "execution_count": 7,
      "metadata": {
        "colab": {
          "base_uri": "https://localhost:8080/"
        },
        "id": "AtDQIxANTDj4",
        "outputId": "fb2b9435-ae8a-4980-d957-071da7b017d5"
      },
      "outputs": [
        {
          "name": "stdout",
          "output_type": "stream",
          "text": [
            "Model: \"sequential\"\n",
            "_________________________________________________________________\n",
            " Layer (type)                Output Shape              Param #   \n",
            "=================================================================\n",
            " conv2d (Conv2D)             (None, 24, 24, 32)        832       \n",
            "                                                                 \n",
            " max_pooling2d (MaxPooling2D  (None, 12, 12, 32)       0         \n",
            " )                                                               \n",
            "                                                                 \n",
            " flatten (Flatten)           (None, 4608)              0         \n",
            "                                                                 \n",
            " dense (Dense)               (None, 100)               460900    \n",
            "                                                                 \n",
            " dense_1 (Dense)             (None, 10)                1010      \n",
            "                                                                 \n",
            "=================================================================\n",
            "Total params: 462,742\n",
            "Trainable params: 462,742\n",
            "Non-trainable params: 0\n",
            "_________________________________________________________________\n"
          ]
        }
      ],
      "source": [
        "model.summary()"
      ]
    },
    {
      "cell_type": "code",
      "execution_count": 8,
      "metadata": {
        "colab": {
          "base_uri": "https://localhost:8080/"
        },
        "id": "gb0oAGBNSSUw",
        "outputId": "12c3532f-8951-40d6-d980-78675bdd2361"
      },
      "outputs": [
        {
          "name": "stdout",
          "output_type": "stream",
          "text": [
            "Epoch 1/20\n",
            "1500/1500 [==============================] - 16s 3ms/step - loss: 0.1514 - accuracy: 0.9557 - val_loss: 0.0577 - val_accuracy: 0.9840\n",
            "Epoch 2/20\n",
            "1500/1500 [==============================] - 4s 3ms/step - loss: 0.0508 - accuracy: 0.9841 - val_loss: 0.0441 - val_accuracy: 0.9883\n",
            "Epoch 3/20\n",
            "1500/1500 [==============================] - 4s 3ms/step - loss: 0.0322 - accuracy: 0.9895 - val_loss: 0.0453 - val_accuracy: 0.9872\n",
            "Epoch 4/20\n",
            "1500/1500 [==============================] - 4s 3ms/step - loss: 0.0233 - accuracy: 0.9923 - val_loss: 0.0375 - val_accuracy: 0.9893\n",
            "Epoch 5/20\n",
            "1500/1500 [==============================] - 4s 3ms/step - loss: 0.0172 - accuracy: 0.9945 - val_loss: 0.0435 - val_accuracy: 0.9888\n",
            "Epoch 6/20\n",
            "1500/1500 [==============================] - 4s 3ms/step - loss: 0.0130 - accuracy: 0.9956 - val_loss: 0.0458 - val_accuracy: 0.9888\n",
            "Epoch 7/20\n",
            "1500/1500 [==============================] - 4s 3ms/step - loss: 0.0096 - accuracy: 0.9970 - val_loss: 0.0525 - val_accuracy: 0.9878\n",
            "Epoch 8/20\n",
            "1500/1500 [==============================] - 4s 3ms/step - loss: 0.0067 - accuracy: 0.9979 - val_loss: 0.0614 - val_accuracy: 0.9868\n",
            "Epoch 9/20\n",
            "1500/1500 [==============================] - 4s 3ms/step - loss: 0.0063 - accuracy: 0.9978 - val_loss: 0.0523 - val_accuracy: 0.9895\n",
            "Epoch 10/20\n",
            "1500/1500 [==============================] - 5s 3ms/step - loss: 0.0056 - accuracy: 0.9981 - val_loss: 0.0583 - val_accuracy: 0.9897\n",
            "Epoch 11/20\n",
            "1500/1500 [==============================] - 8s 5ms/step - loss: 0.0041 - accuracy: 0.9987 - val_loss: 0.0584 - val_accuracy: 0.9882\n",
            "Epoch 12/20\n",
            "1500/1500 [==============================] - 4s 3ms/step - loss: 0.0052 - accuracy: 0.9983 - val_loss: 0.0498 - val_accuracy: 0.9903\n",
            "Epoch 13/20\n",
            "1500/1500 [==============================] - 4s 3ms/step - loss: 0.0039 - accuracy: 0.9987 - val_loss: 0.0561 - val_accuracy: 0.9898\n",
            "Epoch 14/20\n",
            "1500/1500 [==============================] - 4s 3ms/step - loss: 0.0038 - accuracy: 0.9986 - val_loss: 0.0627 - val_accuracy: 0.9895\n",
            "Epoch 15/20\n",
            "1500/1500 [==============================] - 5s 3ms/step - loss: 0.0033 - accuracy: 0.9990 - val_loss: 0.0697 - val_accuracy: 0.9882\n",
            "Epoch 16/20\n",
            "1500/1500 [==============================] - 4s 3ms/step - loss: 0.0030 - accuracy: 0.9990 - val_loss: 0.0533 - val_accuracy: 0.9907\n",
            "Epoch 17/20\n",
            "1500/1500 [==============================] - 4s 3ms/step - loss: 0.0031 - accuracy: 0.9991 - val_loss: 0.0659 - val_accuracy: 0.9910\n",
            "Epoch 18/20\n",
            "1500/1500 [==============================] - 4s 3ms/step - loss: 0.0025 - accuracy: 0.9992 - val_loss: 0.0641 - val_accuracy: 0.9905\n",
            "Epoch 19/20\n",
            "1500/1500 [==============================] - 5s 3ms/step - loss: 0.0035 - accuracy: 0.9989 - val_loss: 0.0800 - val_accuracy: 0.9893\n",
            "Epoch 20/20\n",
            "1500/1500 [==============================] - 4s 3ms/step - loss: 0.0023 - accuracy: 0.9992 - val_loss: 0.0712 - val_accuracy: 0.9902\n"
          ]
        }
      ],
      "source": [
        "model.compile(loss=\"sparse_categorical_crossentropy\", optimizer=\"adam\", metrics=[\"accuracy\"])\n",
        "\n",
        "batch_size = 36\n",
        "epochs = 20\n",
        "\n",
        "history0 = model.fit(x_train_full, y_train_full, batch_size=batch_size, epochs=epochs, validation_split=0.1)\n"
      ]
    },
    {
      "cell_type": "code",
      "execution_count": 9,
      "metadata": {
        "colab": {
          "base_uri": "https://localhost:8080/",
          "height": 573
        },
        "id": "vjYDlcOwTPYn",
        "outputId": "a08e9173-7942-414f-9096-d2346965b5a0"
      },
      "outputs": [
        {
          "data": {
            "image/png": "[encoded data removed]",
            "text/plain": [
              "<Figure size 432x288 with 1 Axes>"
            ]
          },
          "metadata": {},
          "output_type": "display_data"
        },
        {
          "data": {
            "image/png": "[encoded data removed]",
            "text/plain": [
              "<Figure size 432x288 with 1 Axes>"
            ]
          },
          "metadata": {},
          "output_type": "display_data"
        }
      ],
      "source": [
        "sns.set_style(\"darkgrid\")\n",
        "#get the details form the history object\n",
        "acc = history0.history['accuracy']\n",
        "val_acc = history0.history['val_accuracy']\n",
        "loss = history0.history['loss']\n",
        "val_loss = history0.history['val_loss']\n",
        "\n",
        "epochs = range(1, len(acc) + 1)\n",
        "\n",
        "#Train and validation accuracy\n",
        "plt.plot(epochs, acc, 'b', label='Training accurarcy')\n",
        "plt.plot(epochs, val_acc, 'r', label='Validation accurarcy')\n",
        "plt.xlabel('Epoch #')\n",
        "plt.ylabel('accuracy')\n",
        "plt.title('Training and Validation accurarcy')\n",
        "plt.legend()\n",
        "#plt.savefig('ensemble_seresnext50_eff-b3_graph_test_acc.png')\n",
        "\n",
        "plt.figure()\n",
        "#Train and validation loss\n",
        "plt.plot(epochs, loss, 'b', label='Training loss')\n",
        "plt.plot(epochs, val_loss, 'r', label='Validation loss')\n",
        "plt.xlabel('Epoch #')\n",
        "plt.ylabel('loss')\n",
        "plt.title('Training and Validation loss')\n",
        "plt.legend()\n",
        "#plt.savefig('ensemble_seresnext50_eff-b3_graph_test_loss.png')\n",
        "\n",
        "plt.show()\n"
      ]
    },
    {
      "cell_type": "code",
      "execution_count": 10,
      "metadata": {
        "colab": {
          "base_uri": "https://localhost:8080/"
        },
        "id": "C6yp9yl6TXKH",
        "outputId": "818fe99f-d9ed-43c4-ffb1-c7e87123083e"
      },
      "outputs": [
        {
          "name": "stdout",
          "output_type": "stream",
          "text": [
            "313/313 [==============================] - 1s 2ms/step - loss: 0.0665 - accuracy: 0.9891\n"
          ]
        },
        {
          "data": {
            "text/plain": [
              "[0.06654983013868332, 0.9890999794006348]"
            ]
          },
          "execution_count": 10,
          "metadata": {},
          "output_type": "execute_result"
        }
      ],
      "source": [
        "model.evaluate(x_test_full, y_test_full)"
      ]
    },
    {
      "cell_type": "code",
      "execution_count": 11,
      "metadata": {
        "id": "2ev2KKS8TkiQ"
      },
      "outputs": [],
      "source": [
        "from sklearn.metrics import classification_report, confusion_matrix\n",
        "Y_pred01 = model.predict(x_test_full, len(y_test_full)//batch_size)\n"
      ]
    },
    {
      "cell_type": "code",
      "execution_count": 12,
      "metadata": {
        "id": "DNxxYj2VTm45"
      },
      "outputs": [],
      "source": [
        "y_pred01 = np.argmax(Y_pred01, axis=1)"
      ]
    },
    {
      "cell_type": "code",
      "execution_count": 13,
      "metadata": {
        "colab": {
          "base_uri": "https://localhost:8080/"
        },
        "id": "zHjIBxwJTp1n",
        "outputId": "b1095bba-70c4-4cc0-f9de-cee4262e0db8"
      },
      "outputs": [
        {
          "name": "stdout",
          "output_type": "stream",
          "text": [
            "Confusion Matrix\n",
            "[[ 978    0    1    1    0    0    0    0    0    0]\n",
            " [   0 1132    1    0    1    0    1    0    0    0]\n",
            " [   2    6 1016    1    0    0    1    5    1    0]\n",
            " [   0    0    1  993    0   11    0    0    5    0]\n",
            " [   1    2    0    0  965    0    6    0    0    8]\n",
            " [   1    1    0    3    0  885    2    0    0    0]\n",
            " [   4    2    0    0    1    1  948    0    2    0]\n",
            " [   0    1    5    1    0    1    0 1015    2    3]\n",
            " [   3    0    0    0    1    0    0    0  965    5]\n",
            " [   0    1    0    0    5    5    0    3    1  994]]\n"
          ]
        }
      ],
      "source": [
        "print('Confusion Matrix')\n",
        "cm1 = confusion_matrix(y_test_full, y_pred01)\n",
        "#cm = confusion_matrix(test_RGB_y, y_pred01)\n",
        "print(cm1)"
      ]
    },
    {
      "cell_type": "code",
      "execution_count": 14,
      "metadata": {
        "colab": {
          "base_uri": "https://localhost:8080/"
        },
        "id": "3FCsklnSTs2Y",
        "outputId": "78528645-86a0-4fb6-f09b-e8f369122374"
      },
      "outputs": [
        {
          "name": "stdout",
          "output_type": "stream",
          "text": [
            "Accuracy 0.9891\n"
          ]
        }
      ],
      "source": [
        "from sklearn import metrics\n",
        "print(\"Accuracy\", metrics.accuracy_score(y_test_full, y_pred01))"
      ]
    },
    {
      "cell_type": "markdown",
      "metadata": {
        "id": "O184DdBqT59H"
      },
      "source": [
        "Model 1:"
      ]
    },
    {
      "cell_type": "code",
      "execution_count": 15,
      "metadata": {
        "colab": {
          "base_uri": "https://localhost:8080/"
        },
        "id": "KNYdf2hwTyCw",
        "outputId": "ee6127dc-e267-421d-d0ba-d5ae8aded921"
      },
      "outputs": [
        {
          "name": "stdout",
          "output_type": "stream",
          "text": [
            "Model: \"sequential_1\"\n",
            "_________________________________________________________________\n",
            " Layer (type)                Output Shape              Param #   \n",
            "=================================================================\n",
            " conv2d_1 (Conv2D)           (None, 24, 24, 32)        832       \n",
            "                                                                 \n",
            " conv2d_2 (Conv2D)           (None, 20, 20, 32)        25632     \n",
            "                                                                 \n",
            " max_pooling2d_1 (MaxPooling  (None, 10, 10, 32)       0         \n",
            " 2D)                                                             \n",
            "                                                                 \n",
            " flatten_1 (Flatten)         (None, 3200)              0         \n",
            "                                                                 \n",
            " dense_2 (Dense)             (None, 100)               320100    \n",
            "                                                                 \n",
            " dense_3 (Dense)             (None, 10)                1010      \n",
            "                                                                 \n",
            "=================================================================\n",
            "Total params: 347,574\n",
            "Trainable params: 347,574\n",
            "Non-trainable params: 0\n",
            "_________________________________________________________________\n"
          ]
        }
      ],
      "source": [
        "model = tf.keras.Sequential()\n",
        "model.add(tf.keras.Input(shape=(28,28,1)))\n",
        "model.add(tf.keras.layers.Conv2D(32, kernel_size=(5,5), activation=\"relu\", padding=\"valid\"))\n",
        "model.add(tf.keras.layers.Conv2D(32, kernel_size=(5,5), activation=\"relu\", padding=\"valid\"))\n",
        "model.add(tf.keras.layers.MaxPooling2D(pool_size=(2,2)))\n",
        "model.add(tf.keras.layers.Flatten())\n",
        "model.add(tf.keras.layers.Dense(100, activation=\"relu\"))\n",
        "model.add(tf.keras.layers.Dense(10,activation=\"softmax\"))\n",
        "model.summary()"
      ]
    },
    {
      "cell_type": "code",
      "execution_count": 16,
      "metadata": {
        "colab": {
          "base_uri": "https://localhost:8080/"
        },
        "id": "HGJHta5TUkKB",
        "outputId": "b5b042f7-de5c-4828-fdf5-489e99d0d230"
      },
      "outputs": [
        {
          "name": "stdout",
          "output_type": "stream",
          "text": [
            "Epoch 1/20\n",
            "1500/1500 [==============================] - 5s 3ms/step - loss: 0.1195 - accuracy: 0.9624 - val_loss: 0.0432 - val_accuracy: 0.9875\n",
            "Epoch 2/20\n",
            "1500/1500 [==============================] - 5s 3ms/step - loss: 0.0396 - accuracy: 0.9880 - val_loss: 0.0455 - val_accuracy: 0.9872\n",
            "Epoch 3/20\n",
            "1500/1500 [==============================] - 5s 3ms/step - loss: 0.0270 - accuracy: 0.9917 - val_loss: 0.0407 - val_accuracy: 0.9893\n",
            "Epoch 4/20\n",
            "1500/1500 [==============================] - 6s 4ms/step - loss: 0.0188 - accuracy: 0.9938 - val_loss: 0.0621 - val_accuracy: 0.9843\n",
            "Epoch 5/20\n",
            "1500/1500 [==============================] - 5s 3ms/step - loss: 0.0135 - accuracy: 0.9957 - val_loss: 0.0337 - val_accuracy: 0.9917\n",
            "Epoch 6/20\n",
            "1500/1500 [==============================] - 5s 3ms/step - loss: 0.0125 - accuracy: 0.9960 - val_loss: 0.0383 - val_accuracy: 0.9910\n",
            "Epoch 7/20\n",
            "1500/1500 [==============================] - 6s 4ms/step - loss: 0.0087 - accuracy: 0.9971 - val_loss: 0.0424 - val_accuracy: 0.9913\n",
            "Epoch 8/20\n",
            "1500/1500 [==============================] - 5s 4ms/step - loss: 0.0092 - accuracy: 0.9969 - val_loss: 0.0396 - val_accuracy: 0.9923\n",
            "Epoch 9/20\n",
            "1500/1500 [==============================] - 6s 4ms/step - loss: 0.0069 - accuracy: 0.9978 - val_loss: 0.0580 - val_accuracy: 0.9882\n",
            "Epoch 10/20\n",
            "1500/1500 [==============================] - 5s 4ms/step - loss: 0.0059 - accuracy: 0.9981 - val_loss: 0.0494 - val_accuracy: 0.9912\n",
            "Epoch 11/20\n",
            "1500/1500 [==============================] - 5s 3ms/step - loss: 0.0062 - accuracy: 0.9979 - val_loss: 0.0438 - val_accuracy: 0.9922\n",
            "Epoch 12/20\n",
            "1500/1500 [==============================] - 5s 3ms/step - loss: 0.0053 - accuracy: 0.9982 - val_loss: 0.0602 - val_accuracy: 0.9888\n",
            "Epoch 13/20\n",
            "1500/1500 [==============================] - 5s 3ms/step - loss: 0.0044 - accuracy: 0.9985 - val_loss: 0.0782 - val_accuracy: 0.9907\n",
            "Epoch 14/20\n",
            "1500/1500 [==============================] - 5s 3ms/step - loss: 0.0056 - accuracy: 0.9982 - val_loss: 0.0625 - val_accuracy: 0.9898\n",
            "Epoch 15/20\n",
            "1500/1500 [==============================] - 5s 3ms/step - loss: 0.0049 - accuracy: 0.9985 - val_loss: 0.0592 - val_accuracy: 0.9912\n",
            "Epoch 16/20\n",
            "1500/1500 [==============================] - 5s 3ms/step - loss: 0.0034 - accuracy: 0.9991 - val_loss: 0.0663 - val_accuracy: 0.9908\n",
            "Epoch 17/20\n",
            "1500/1500 [==============================] - 5s 3ms/step - loss: 0.0035 - accuracy: 0.9990 - val_loss: 0.0687 - val_accuracy: 0.9888\n",
            "Epoch 18/20\n",
            "1500/1500 [==============================] - 5s 3ms/step - loss: 0.0048 - accuracy: 0.9984 - val_loss: 0.0707 - val_accuracy: 0.9917\n",
            "Epoch 19/20\n",
            "1500/1500 [==============================] - 5s 3ms/step - loss: 0.0035 - accuracy: 0.9990 - val_loss: 0.0650 - val_accuracy: 0.9915\n",
            "Epoch 20/20\n",
            "1500/1500 [==============================] - 5s 3ms/step - loss: 0.0043 - accuracy: 0.9988 - val_loss: 0.0679 - val_accuracy: 0.9920\n"
          ]
        }
      ],
      "source": [
        "model.compile(loss=\"sparse_categorical_crossentropy\", optimizer=\"adam\", metrics=[\"accuracy\"])\n",
        "\n",
        "batch_size = 36\n",
        "epochs = 20\n",
        "\n",
        "history1 = model.fit(x_train_full, y_train_full, batch_size=batch_size, epochs=epochs, validation_split=0.1)"
      ]
    },
    {
      "cell_type": "code",
      "execution_count": 17,
      "metadata": {
        "colab": {
          "base_uri": "https://localhost:8080/",
          "height": 573
        },
        "id": "tLgO4eokVIai",
        "outputId": "28eef0c5-5e95-4bb0-85b7-c6a1865bd545"
      },
      "outputs": [
        {
          "data": {
            "image/png": "[encoded data removed]",
            "text/plain": [
              "<Figure size 432x288 with 1 Axes>"
            ]
          },
          "metadata": {},
          "output_type": "display_data"
        },
        {
          "data": {
            "image/png": "[encoded data removed]",
            "text/plain": [
              "<Figure size 432x288 with 1 Axes>"
            ]
          },
          "metadata": {},
          "output_type": "display_data"
        }
      ],
      "source": [
        "sns.set_style(\"darkgrid\")\n",
        "#get the details form the history object\n",
        "acc = history1.history['accuracy']\n",
        "val_acc = history1.history['val_accuracy']\n",
        "loss = history1.history['loss']\n",
        "val_loss = history1.history['val_loss']\n",
        "\n",
        "epochs = range(1, len(acc) + 1)\n",
        "\n",
        "#Train and validation accuracy\n",
        "plt.plot(epochs, acc, 'b', label='Training accurarcy')\n",
        "plt.plot(epochs, val_acc, 'r', label='Validation accurarcy')\n",
        "plt.xlabel('Epoch #')\n",
        "plt.ylabel('accuracy')\n",
        "plt.title('Training and Validation accurarcy')\n",
        "plt.legend()\n",
        "#plt.savefig('ensemble_seresnext50_eff-b3_graph_test_acc.png')\n",
        "\n",
        "plt.figure()\n",
        "#Train and validation loss\n",
        "plt.plot(epochs, loss, 'b', label='Training loss')\n",
        "plt.plot(epochs, val_loss, 'r', label='Validation loss')\n",
        "plt.xlabel('Epoch #')\n",
        "plt.ylabel('loss')\n",
        "plt.title('Training and Validation loss')\n",
        "plt.legend()\n",
        "#plt.savefig('ensemble_seresnext50_eff-b3_graph_test_loss.png')\n",
        "\n",
        "plt.show()"
      ]
    },
    {
      "cell_type": "code",
      "execution_count": 18,
      "metadata": {
        "colab": {
          "base_uri": "https://localhost:8080/"
        },
        "id": "OGoaOzfGVcYg",
        "outputId": "88fdf5de-bdee-4167-f909-3d51217f1cf0"
      },
      "outputs": [
        {
          "name": "stdout",
          "output_type": "stream",
          "text": [
            "313/313 [==============================] - 1s 3ms/step - loss: 0.0512 - accuracy: 0.9908\n"
          ]
        },
        {
          "data": {
            "text/plain": [
              "[0.0511627197265625, 0.9908000230789185]"
            ]
          },
          "execution_count": 18,
          "metadata": {},
          "output_type": "execute_result"
        }
      ],
      "source": [
        "model.evaluate(x_test_full, y_test_full)"
      ]
    },
    {
      "cell_type": "code",
      "execution_count": 19,
      "metadata": {
        "id": "mr4DTxD0Vi0K"
      },
      "outputs": [],
      "source": [
        "from sklearn.metrics import classification_report, confusion_matrix\n",
        "Y_pred02 = model.predict(x_test_full, len(y_test_full)//batch_size)"
      ]
    },
    {
      "cell_type": "code",
      "execution_count": 20,
      "metadata": {
        "id": "5FCMdBrmVsGg"
      },
      "outputs": [],
      "source": [
        "y_pred02 = np.argmax(Y_pred02, axis=1)"
      ]
    },
    {
      "cell_type": "code",
      "execution_count": 21,
      "metadata": {
        "colab": {
          "base_uri": "https://localhost:8080/"
        },
        "id": "MFJemliaVwWY",
        "outputId": "600e9920-7d45-451b-8cf7-281a9d3c6c09"
      },
      "outputs": [
        {
          "name": "stdout",
          "output_type": "stream",
          "text": [
            "Confusion Matrix\n",
            "[[ 972    1    2    0    0    0    3    0    1    1]\n",
            " [   0 1131    0    0    0    3    0    0    0    1]\n",
            " [   0    5 1013    0    1    0    0   11    2    0]\n",
            " [   0    1    1 1003    0    3    0    2    0    0]\n",
            " [   0    1    0    0  977    0    0    0    1    3]\n",
            " [   1    0    0    1    0  888    1    1    0    0]\n",
            " [   2    4    0    0    1    2  946    0    3    0]\n",
            " [   0    1    2    0    0    0    0 1022    1    2]\n",
            " [   2    0    1    1    1    2    1    0  963    3]\n",
            " [   0    0    2    0    4    7    0    3    0  993]]\n"
          ]
        }
      ],
      "source": [
        "print('Confusion Matrix')\n",
        "cm2 = confusion_matrix(y_test_full, y_pred02)\n",
        "#cm = confusion_matrix(test_RGB_y, y_pred02)\n",
        "print(cm2)"
      ]
    },
    {
      "cell_type": "code",
      "execution_count": 22,
      "metadata": {
        "colab": {
          "base_uri": "https://localhost:8080/"
        },
        "id": "0QJUiS0vV8JA",
        "outputId": "78f94e7e-3edc-415c-93c4-d60320e5ac4b"
      },
      "outputs": [
        {
          "name": "stdout",
          "output_type": "stream",
          "text": [
            "Accuracy 0.9908\n"
          ]
        }
      ],
      "source": [
        "from sklearn import metrics\n",
        "print(\"Accuracy\", metrics.accuracy_score(y_test_full, y_pred02))"
      ]
    },
    {
      "cell_type": "markdown",
      "metadata": {
        "id": "qkhDysX4WIqJ"
      },
      "source": [
        "Model 3:\n"
      ]
    },
    {
      "cell_type": "code",
      "execution_count": 23,
      "metadata": {
        "colab": {
          "base_uri": "https://localhost:8080/"
        },
        "id": "xbem_y58WDLp",
        "outputId": "8d764fca-2419-4391-d3ee-466797b4702c"
      },
      "outputs": [
        {
          "name": "stdout",
          "output_type": "stream",
          "text": [
            "Model: \"sequential_2\"\n",
            "_________________________________________________________________\n",
            " Layer (type)                Output Shape              Param #   \n",
            "=================================================================\n",
            " conv2d_3 (Conv2D)           (None, 24, 24, 6)         156       \n",
            "                                                                 \n",
            " max_pooling2d_2 (MaxPooling  (None, 12, 12, 6)        0         \n",
            " 2D)                                                             \n",
            "                                                                 \n",
            " conv2d_4 (Conv2D)           (None, 8, 8, 16)          2416      \n",
            "                                                                 \n",
            " max_pooling2d_3 (MaxPooling  (None, 4, 4, 16)         0         \n",
            " 2D)                                                             \n",
            "                                                                 \n",
            " flatten_2 (Flatten)         (None, 256)               0         \n",
            "                                                                 \n",
            " dense_4 (Dense)             (None, 120)               30840     \n",
            "                                                                 \n",
            " dense_5 (Dense)             (None, 84)                10164     \n",
            "                                                                 \n",
            " dense_6 (Dense)             (None, 10)                850       \n",
            "                                                                 \n",
            "=================================================================\n",
            "Total params: 44,426\n",
            "Trainable params: 44,426\n",
            "Non-trainable params: 0\n",
            "_________________________________________________________________\n"
          ]
        }
      ],
      "source": [
        "model = tf.keras.Sequential()\n",
        "model.add(tf.keras.Input(shape=(28,28,1)))\n",
        "model.add(tf.keras.layers.Conv2D(6, kernel_size=(5,5), activation=\"tanh\", padding=\"valid\"))\n",
        "model.add(tf.keras.layers.MaxPooling2D(pool_size=(2,2)))\n",
        "model.add(tf.keras.layers.Conv2D(16, kernel_size=(5,5), activation=\"tanh\", padding=\"valid\"))\n",
        "model.add(tf.keras.layers.MaxPooling2D(pool_size=(2,2)))\n",
        "model.add(tf.keras.layers.Flatten())\n",
        "model.add(tf.keras.layers.Dense(120, activation=\"sigmoid\"))\n",
        "model.add(tf.keras.layers.Dense(84, activation=\"sigmoid\"))\n",
        "model.add(tf.keras.layers.Dense(10,activation=\"softmax\"))\n",
        "model.summary()"
      ]
    },
    {
      "cell_type": "code",
      "execution_count": 24,
      "metadata": {
        "colab": {
          "base_uri": "https://localhost:8080/"
        },
        "id": "5Kd86D46YKFC",
        "outputId": "846b6509-4b7e-4086-8130-33d434b9aa81"
      },
      "outputs": [
        {
          "name": "stdout",
          "output_type": "stream",
          "text": [
            "Epoch 1/20\n",
            "1500/1500 [==============================] - 6s 3ms/step - loss: 0.3759 - accuracy: 0.9031 - val_loss: 0.0930 - val_accuracy: 0.9742\n",
            "Epoch 2/20\n",
            "1500/1500 [==============================] - 5s 4ms/step - loss: 0.0862 - accuracy: 0.9746 - val_loss: 0.0692 - val_accuracy: 0.9800\n",
            "Epoch 3/20\n",
            "1500/1500 [==============================] - 5s 3ms/step - loss: 0.0591 - accuracy: 0.9823 - val_loss: 0.0553 - val_accuracy: 0.9842\n",
            "Epoch 4/20\n",
            "1500/1500 [==============================] - 5s 3ms/step - loss: 0.0460 - accuracy: 0.9859 - val_loss: 0.0532 - val_accuracy: 0.9837\n",
            "Epoch 5/20\n",
            "1500/1500 [==============================] - 5s 3ms/step - loss: 0.0363 - accuracy: 0.9889 - val_loss: 0.0476 - val_accuracy: 0.9868\n",
            "Epoch 6/20\n",
            "1500/1500 [==============================] - 5s 3ms/step - loss: 0.0306 - accuracy: 0.9909 - val_loss: 0.0444 - val_accuracy: 0.9865\n",
            "Epoch 7/20\n",
            "1500/1500 [==============================] - 5s 3ms/step - loss: 0.0245 - accuracy: 0.9919 - val_loss: 0.0480 - val_accuracy: 0.9867\n",
            "Epoch 8/20\n",
            "1500/1500 [==============================] - 5s 3ms/step - loss: 0.0210 - accuracy: 0.9934 - val_loss: 0.0478 - val_accuracy: 0.9862\n",
            "Epoch 9/20\n",
            "1500/1500 [==============================] - 7s 5ms/step - loss: 0.0176 - accuracy: 0.9948 - val_loss: 0.0503 - val_accuracy: 0.9863\n",
            "Epoch 10/20\n",
            "1500/1500 [==============================] - 6s 4ms/step - loss: 0.0138 - accuracy: 0.9960 - val_loss: 0.0458 - val_accuracy: 0.9868\n",
            "Epoch 11/20\n",
            "1500/1500 [==============================] - 7s 4ms/step - loss: 0.0121 - accuracy: 0.9962 - val_loss: 0.0451 - val_accuracy: 0.9870\n",
            "Epoch 12/20\n",
            "1500/1500 [==============================] - 6s 4ms/step - loss: 0.0098 - accuracy: 0.9971 - val_loss: 0.0553 - val_accuracy: 0.9857\n",
            "Epoch 13/20\n",
            "1500/1500 [==============================] - 5s 3ms/step - loss: 0.0089 - accuracy: 0.9973 - val_loss: 0.0500 - val_accuracy: 0.9867\n",
            "Epoch 14/20\n",
            "1500/1500 [==============================] - 5s 3ms/step - loss: 0.0074 - accuracy: 0.9979 - val_loss: 0.0503 - val_accuracy: 0.9868\n",
            "Epoch 15/20\n",
            "1500/1500 [==============================] - 5s 3ms/step - loss: 0.0062 - accuracy: 0.9982 - val_loss: 0.0518 - val_accuracy: 0.9873\n",
            "Epoch 16/20\n",
            "1500/1500 [==============================] - 5s 3ms/step - loss: 0.0061 - accuracy: 0.9980 - val_loss: 0.0490 - val_accuracy: 0.9880\n",
            "Epoch 17/20\n",
            "1500/1500 [==============================] - 5s 4ms/step - loss: 0.0054 - accuracy: 0.9982 - val_loss: 0.0530 - val_accuracy: 0.9875\n",
            "Epoch 18/20\n",
            "1500/1500 [==============================] - 5s 3ms/step - loss: 0.0054 - accuracy: 0.9984 - val_loss: 0.0544 - val_accuracy: 0.9875\n",
            "Epoch 19/20\n",
            "1500/1500 [==============================] - 5s 3ms/step - loss: 0.0038 - accuracy: 0.9989 - val_loss: 0.0607 - val_accuracy: 0.9872\n",
            "Epoch 20/20\n",
            "1500/1500 [==============================] - 5s 3ms/step - loss: 0.0044 - accuracy: 0.9986 - val_loss: 0.0569 - val_accuracy: 0.9867\n"
          ]
        }
      ],
      "source": [
        "model.compile(loss=\"sparse_categorical_crossentropy\", optimizer=\"adam\", metrics=[\"accuracy\"])\n",
        "\n",
        "batch_size = 36\n",
        "epochs = 20\n",
        "\n",
        "history2 = model.fit(x_train_full, y_train_full, batch_size=batch_size, epochs=epochs, validation_split=0.1)"
      ]
    },
    {
      "cell_type": "code",
      "execution_count": 25,
      "metadata": {
        "colab": {
          "base_uri": "https://localhost:8080/",
          "height": 573
        },
        "id": "pDmj_6rFYNk5",
        "outputId": "dd989a4f-db22-4bc0-956d-78fd4922c310"
      },
      "outputs": [
        {
          "data": {
            "image/png": "[encoded data removed]",
            "text/plain": [
              "<Figure size 432x288 with 1 Axes>"
            ]
          },
          "metadata": {},
          "output_type": "display_data"
        },
        {
          "data": {
            "image/png": "[encoded data removed]",
            "text/plain": [
              "<Figure size 432x288 with 1 Axes>"
            ]
          },
          "metadata": {},
          "output_type": "display_data"
        }
      ],
      "source": [
        "sns.set_style(\"darkgrid\")\n",
        "#get the details form the history object\n",
        "acc = history2.history['accuracy']\n",
        "val_acc = history2.history['val_accuracy']\n",
        "loss = history2.history['loss']\n",
        "val_loss = history2.history['val_loss']\n",
        "\n",
        "epochs = range(1, len(acc) + 1)\n",
        "\n",
        "#Train and validation accuracy\n",
        "plt.plot(epochs, acc, 'b', label='Training accurarcy')\n",
        "plt.plot(epochs, val_acc, 'r', label='Validation accurarcy')\n",
        "plt.xlabel('Epoch #')\n",
        "plt.ylabel('accuracy')\n",
        "plt.title('Training and Validation accurarcy')\n",
        "plt.legend()\n",
        "#plt.savefig('ensemble_seresnext50_eff-b3_graph_test_acc.png')\n",
        "\n",
        "plt.figure()\n",
        "#Train and validation loss\n",
        "plt.plot(epochs, loss, 'b', label='Training loss')\n",
        "plt.plot(epochs, val_loss, 'r', label='Validation loss')\n",
        "plt.xlabel('Epoch #')\n",
        "plt.ylabel('loss')\n",
        "plt.title('Training and Validation loss')\n",
        "plt.legend()\n",
        "#plt.savefig('ensemble_seresnext50_eff-b3_graph_test_loss.png')\n",
        "\n",
        "plt.show()"
      ]
    },
    {
      "cell_type": "code",
      "execution_count": 26,
      "metadata": {
        "colab": {
          "base_uri": "https://localhost:8080/"
        },
        "id": "6E-Gm9eGYu1Z",
        "outputId": "b6bb4f1f-7aed-4aae-9d6f-8d7309ac667a"
      },
      "outputs": [
        {
          "name": "stdout",
          "output_type": "stream",
          "text": [
            "313/313 [==============================] - 1s 3ms/step - loss: 0.0558 - accuracy: 0.9864\n"
          ]
        },
        {
          "data": {
            "text/plain": [
              "[0.055846381932497025, 0.9864000082015991]"
            ]
          },
          "execution_count": 26,
          "metadata": {},
          "output_type": "execute_result"
        }
      ],
      "source": [
        "model.evaluate(x_test_full, y_test_full)\n"
      ]
    },
    {
      "cell_type": "code",
      "execution_count": 27,
      "metadata": {
        "id": "euqneX7iY3EZ"
      },
      "outputs": [],
      "source": [
        "from sklearn.metrics import classification_report, confusion_matrix\n",
        "Y_pred03 = model.predict(x_test_full, len(y_test_full)//batch_size)"
      ]
    },
    {
      "cell_type": "code",
      "execution_count": 28,
      "metadata": {
        "id": "qm6AmaBtY9jB"
      },
      "outputs": [],
      "source": [
        "y_pred03 = np.argmax(Y_pred03, axis=1)"
      ]
    },
    {
      "cell_type": "code",
      "execution_count": 29,
      "metadata": {
        "colab": {
          "base_uri": "https://localhost:8080/"
        },
        "id": "pUlunhpoZE7C",
        "outputId": "e822ab4e-aa3a-4902-fc29-ad30a3377796"
      },
      "outputs": [
        {
          "name": "stdout",
          "output_type": "stream",
          "text": [
            "Confusion Matrix\n",
            "[[ 970    0    4    0    0    1    0    1    3    1]\n",
            " [   0 1127    1    1    0    0    2    2    2    0]\n",
            " [   0    0 1028    1    0    0    0    2    1    0]\n",
            " [   0    0    4  999    0    2    0    2    3    0]\n",
            " [   0    0    2    0  968    0    3    1    2    6]\n",
            " [   2    1    0    9    0  872    1    1    4    2]\n",
            " [   4    2    2    0    2    3  942    0    3    0]\n",
            " [   0    8    7    4    1    0    0 1005    0    3]\n",
            " [   1    0    3    2    0    2    0    1  962    3]\n",
            " [   1    1    0    2    4    3    1    3    3  991]]\n"
          ]
        }
      ],
      "source": [
        "print('Confusion Matrix')\n",
        "cm3 = confusion_matrix(y_test_full, y_pred03)\n",
        "#cm = confusion_matrix(test_RGB_y, y_pred03)\n",
        "print(cm3)"
      ]
    },
    {
      "cell_type": "code",
      "execution_count": 30,
      "metadata": {
        "colab": {
          "base_uri": "https://localhost:8080/"
        },
        "id": "a4hXd3J8ZQe6",
        "outputId": "7aca037e-9240-46fa-a168-b2f16833518e"
      },
      "outputs": [
        {
          "name": "stdout",
          "output_type": "stream",
          "text": [
            "Accuracy 0.9864\n"
          ]
        }
      ],
      "source": [
        "from sklearn import metrics\n",
        "print(\"Accuracy\", metrics.accuracy_score(y_test_full, y_pred03))"
      ]
    },
    {
      "cell_type": "markdown",
      "metadata": {
        "id": "iOhpBdhwZZzR"
      },
      "source": [
        "CIFAR-10 DATASET"
      ]
    },
    {
      "cell_type": "code",
      "execution_count": 31,
      "metadata": {
        "id": "KzgDfJJ6ZcKw"
      },
      "outputs": [],
      "source": [
        "cifar10 = tf.keras.datasets.cifar10"
      ]
    },
    {
      "cell_type": "code",
      "execution_count": 32,
      "metadata": {
        "colab": {
          "base_uri": "https://localhost:8080/"
        },
        "id": "BqdNa53qZzCx",
        "outputId": "edef6285-26ff-4df2-b80a-8414427cc47d"
      },
      "outputs": [
        {
          "name": "stdout",
          "output_type": "stream",
          "text": [
            "Downloading data from https://www.cs.toronto.edu/~kriz/cifar-10-python.tar.gz\n",
            "170500096/170498071 [==============================] - 2s 0us/step\n",
            "170508288/170498071 [==============================] - 2s 0us/step\n"
          ]
        }
      ],
      "source": [
        "(x_train_full, y_train_full),(x_test_full,y_test_full) = cifar10.load_data() "
      ]
    },
    {
      "cell_type": "markdown",
      "metadata": {
        "id": "bXgSYrnrZ5zQ"
      },
      "source": [
        "Perform Normalization"
      ]
    },
    {
      "cell_type": "code",
      "execution_count": 33,
      "metadata": {
        "id": "i5jq9hTLZ3Yw"
      },
      "outputs": [],
      "source": [
        "x_train_full = x_train_full/255.0\n",
        "x_test_full = x_test_full/255.0"
      ]
    },
    {
      "cell_type": "markdown",
      "metadata": {
        "id": "2Ld5mr5eaGmi"
      },
      "source": [
        "Model 4:\n"
      ]
    },
    {
      "cell_type": "code",
      "execution_count": 34,
      "metadata": {
        "id": "SmG0O3hqaBCD"
      },
      "outputs": [],
      "source": [
        "model = tf.keras.Sequential()\n",
        "model.add(tf.keras.Input(shape=(32,32,3)))\n",
        "model.add(tf.keras.layers.Conv2D(32, kernel_size=(5,5), activation=\"relu\", padding=\"valid\"))\n",
        "model.add(tf.keras.layers.MaxPooling2D(pool_size=(2,2)))\n",
        "model.add(tf.keras.layers.Flatten())\n",
        "model.add(tf.keras.layers.Dense(100, activation=\"relu\"))\n",
        "model.add(tf.keras.layers.Dense(10,activation=\"softmax\"))"
      ]
    },
    {
      "cell_type": "code",
      "execution_count": 35,
      "metadata": {
        "colab": {
          "base_uri": "https://localhost:8080/"
        },
        "id": "jN5r3i9saRvJ",
        "outputId": "ecda6c6b-71d8-4ba4-e6a9-ccc5d1dce416"
      },
      "outputs": [
        {
          "name": "stdout",
          "output_type": "stream",
          "text": [
            "Model: \"sequential_3\"\n",
            "_________________________________________________________________\n",
            " Layer (type)                Output Shape              Param #   \n",
            "=================================================================\n",
            " conv2d_5 (Conv2D)           (None, 28, 28, 32)        2432      \n",
            "                                                                 \n",
            " max_pooling2d_4 (MaxPooling  (None, 14, 14, 32)       0         \n",
            " 2D)                                                             \n",
            "                                                                 \n",
            " flatten_3 (Flatten)         (None, 6272)              0         \n",
            "                                                                 \n",
            " dense_7 (Dense)             (None, 100)               627300    \n",
            "                                                                 \n",
            " dense_8 (Dense)             (None, 10)                1010      \n",
            "                                                                 \n",
            "=================================================================\n",
            "Total params: 630,742\n",
            "Trainable params: 630,742\n",
            "Non-trainable params: 0\n",
            "_________________________________________________________________\n"
          ]
        }
      ],
      "source": [
        "model.summary()"
      ]
    },
    {
      "cell_type": "code",
      "execution_count": 36,
      "metadata": {
        "colab": {
          "base_uri": "https://localhost:8080/"
        },
        "id": "116YH1MwaUCJ",
        "outputId": "23726b92-616f-4de7-f292-b84902643868"
      },
      "outputs": [
        {
          "name": "stdout",
          "output_type": "stream",
          "text": [
            "Epoch 1/20\n",
            "1250/1250 [==============================] - 5s 4ms/step - loss: 1.5327 - accuracy: 0.4556 - val_loss: 1.3695 - val_accuracy: 0.5102\n",
            "Epoch 2/20\n",
            "1250/1250 [==============================] - 4s 4ms/step - loss: 1.2459 - accuracy: 0.5605 - val_loss: 1.2138 - val_accuracy: 0.5718\n",
            "Epoch 3/20\n",
            "1250/1250 [==============================] - 4s 3ms/step - loss: 1.1313 - accuracy: 0.6030 - val_loss: 1.1150 - val_accuracy: 0.6114\n",
            "Epoch 4/20\n",
            "1250/1250 [==============================] - 4s 3ms/step - loss: 1.0307 - accuracy: 0.6392 - val_loss: 1.0850 - val_accuracy: 0.6354\n",
            "Epoch 5/20\n",
            "1250/1250 [==============================] - 5s 4ms/step - loss: 0.9526 - accuracy: 0.6654 - val_loss: 1.0792 - val_accuracy: 0.6292\n",
            "Epoch 6/20\n",
            "1250/1250 [==============================] - 5s 4ms/step - loss: 0.8891 - accuracy: 0.6875 - val_loss: 1.1020 - val_accuracy: 0.6240\n",
            "Epoch 7/20\n",
            "1250/1250 [==============================] - 4s 3ms/step - loss: 0.8283 - accuracy: 0.7091 - val_loss: 1.1337 - val_accuracy: 0.6208\n",
            "Epoch 8/20\n",
            "1250/1250 [==============================] - 5s 4ms/step - loss: 0.7727 - accuracy: 0.7291 - val_loss: 1.0661 - val_accuracy: 0.6398\n",
            "Epoch 9/20\n",
            "1250/1250 [==============================] - 6s 5ms/step - loss: 0.7284 - accuracy: 0.7453 - val_loss: 1.1221 - val_accuracy: 0.6326\n",
            "Epoch 10/20\n",
            "1250/1250 [==============================] - 6s 5ms/step - loss: 0.6739 - accuracy: 0.7643 - val_loss: 1.1280 - val_accuracy: 0.6398\n",
            "Epoch 11/20\n",
            "1250/1250 [==============================] - 5s 4ms/step - loss: 0.6316 - accuracy: 0.7788 - val_loss: 1.1771 - val_accuracy: 0.6380\n",
            "Epoch 12/20\n",
            "1250/1250 [==============================] - 4s 3ms/step - loss: 0.5909 - accuracy: 0.7927 - val_loss: 1.1769 - val_accuracy: 0.6400\n",
            "Epoch 13/20\n",
            "1250/1250 [==============================] - 4s 3ms/step - loss: 0.5418 - accuracy: 0.8103 - val_loss: 1.1897 - val_accuracy: 0.6444\n",
            "Epoch 14/20\n",
            "1250/1250 [==============================] - 4s 3ms/step - loss: 0.5036 - accuracy: 0.8249 - val_loss: 1.2710 - val_accuracy: 0.6392\n",
            "Epoch 15/20\n",
            "1250/1250 [==============================] - 4s 3ms/step - loss: 0.4666 - accuracy: 0.8361 - val_loss: 1.3557 - val_accuracy: 0.6270\n",
            "Epoch 16/20\n",
            "1250/1250 [==============================] - 4s 3ms/step - loss: 0.4320 - accuracy: 0.8484 - val_loss: 1.4005 - val_accuracy: 0.6330\n",
            "Epoch 17/20\n",
            "1250/1250 [==============================] - 4s 3ms/step - loss: 0.3976 - accuracy: 0.8604 - val_loss: 1.4704 - val_accuracy: 0.6348\n",
            "Epoch 18/20\n",
            "1250/1250 [==============================] - 4s 3ms/step - loss: 0.3624 - accuracy: 0.8742 - val_loss: 1.5914 - val_accuracy: 0.6238\n",
            "Epoch 19/20\n",
            "1250/1250 [==============================] - 4s 3ms/step - loss: 0.3405 - accuracy: 0.8825 - val_loss: 1.6716 - val_accuracy: 0.6132\n",
            "Epoch 20/20\n",
            "1250/1250 [==============================] - 4s 3ms/step - loss: 0.3077 - accuracy: 0.8928 - val_loss: 1.7427 - val_accuracy: 0.6082\n"
          ]
        }
      ],
      "source": [
        "model.compile(loss=\"sparse_categorical_crossentropy\", optimizer=\"adam\", metrics=[\"accuracy\"])\n",
        "\n",
        "batch_size = 36\n",
        "epochs = 20\n",
        "\n",
        "history3 = model.fit(x_train_full, y_train_full, batch_size=batch_size, epochs=epochs, validation_split=0.1)"
      ]
    },
    {
      "cell_type": "code",
      "execution_count": 37,
      "metadata": {
        "colab": {
          "base_uri": "https://localhost:8080/",
          "height": 573
        },
        "id": "HKvHYtO8a0Rx",
        "outputId": "040cfdbe-ba74-49ae-98d8-806d5b40af3d"
      },
      "outputs": [
        {
          "data": {
            "image/png": "[encoded data removed]",
            "text/plain": [
              "<Figure size 432x288 with 1 Axes>"
            ]
          },
          "metadata": {},
          "output_type": "display_data"
        },
        {
          "data": {
            "image/png": "[encoded data removed]",
            "text/plain": [
              "<Figure size 432x288 with 1 Axes>"
            ]
          },
          "metadata": {},
          "output_type": "display_data"
        }
      ],
      "source": [
        "sns.set_style(\"darkgrid\")\n",
        "#get the details form the history object\n",
        "acc = history3.history['accuracy']\n",
        "val_acc = history3.history['val_accuracy']\n",
        "loss = history3.history['loss']\n",
        "val_loss = history3.history['val_loss']\n",
        "\n",
        "epochs = range(1, len(acc) + 1)\n",
        "\n",
        "#Train and validation accuracy\n",
        "plt.plot(epochs, acc, 'b', label='Training accurarcy')\n",
        "plt.plot(epochs, val_acc, 'r', label='Validation accurarcy')\n",
        "plt.xlabel('Epoch #')\n",
        "plt.ylabel('accuracy')\n",
        "plt.title('Training and Validation accurarcy')\n",
        "plt.legend()\n",
        "#plt.savefig('ensemble_seresnext50_eff-b3_graph_test_acc.png')\n",
        "\n",
        "plt.figure()\n",
        "#Train and validation loss\n",
        "plt.plot(epochs, loss, 'b', label='Training loss')\n",
        "plt.plot(epochs, val_loss, 'r', label='Validation loss')\n",
        "plt.xlabel('Epoch #')\n",
        "plt.ylabel('loss')\n",
        "plt.title('Training and Validation loss')\n",
        "plt.legend()\n",
        "#plt.savefig('ensemble_seresnext50_eff-b3_graph_test_loss.png')\n",
        "\n",
        "plt.show()"
      ]
    },
    {
      "cell_type": "code",
      "execution_count": 38,
      "metadata": {
        "colab": {
          "base_uri": "https://localhost:8080/"
        },
        "id": "BYUqsXRaa15i",
        "outputId": "ae0a9a09-83be-4b26-a370-40b2daf43738"
      },
      "outputs": [
        {
          "name": "stdout",
          "output_type": "stream",
          "text": [
            "313/313 [==============================] - 1s 3ms/step - loss: 1.7990 - accuracy: 0.6076\n"
          ]
        },
        {
          "data": {
            "text/plain": [
              "[1.7989954948425293, 0.6075999736785889]"
            ]
          },
          "execution_count": 38,
          "metadata": {},
          "output_type": "execute_result"
        }
      ],
      "source": [
        "model.evaluate(x_test_full, y_test_full)"
      ]
    },
    {
      "cell_type": "code",
      "execution_count": 39,
      "metadata": {
        "id": "s5yxSef1a67S"
      },
      "outputs": [],
      "source": [
        "from sklearn.metrics import classification_report, confusion_matrix\n",
        "Y_pred04 = model.predict(x_test_full, len(y_test_full)//batch_size)"
      ]
    },
    {
      "cell_type": "code",
      "execution_count": 40,
      "metadata": {
        "id": "Mht8J2jeb0TE"
      },
      "outputs": [],
      "source": [
        "y_pred04 = np.argmax(Y_pred04, axis=1)"
      ]
    },
    {
      "cell_type": "code",
      "execution_count": 41,
      "metadata": {
        "colab": {
          "base_uri": "https://localhost:8080/"
        },
        "id": "XHHYRDZNb8vb",
        "outputId": "0821c9d4-4f2a-441e-c1b1-166ed4824111"
      },
      "outputs": [
        {
          "name": "stdout",
          "output_type": "stream",
          "text": [
            "Confusion Matrix\n",
            "[[712  22  68  18  34   3  21  16  73  33]\n",
            " [ 41 723  14  10  10   7  12   3  46 134]\n",
            " [ 85  17 466  45 170  73  64  44  17  19]\n",
            " [ 45  18 123 341 110 148 106  47  25  37]\n",
            " [ 42   5  94  45 621  39  46  80  16  12]\n",
            " [ 23  14 124 154  89 430  47  79  21  19]\n",
            " [ 15  19  57  47 108  29 683  20  11  11]\n",
            " [ 29  12  45  38 115  50  16 660   9  26]\n",
            " [103  44  22  11  13   8   6   6 755  32]\n",
            " [ 66 129  16  15   8  10  11  13  47 685]]\n"
          ]
        }
      ],
      "source": [
        "print('Confusion Matrix')\n",
        "cm4 = confusion_matrix(y_test_full, y_pred04)\n",
        "#cm = confusion_matrix(test_RGB_y, y_pred04)\n",
        "print(cm4)\n"
      ]
    },
    {
      "cell_type": "code",
      "execution_count": 42,
      "metadata": {
        "colab": {
          "base_uri": "https://localhost:8080/"
        },
        "id": "NME-5UhLcF8M",
        "outputId": "4f0b4845-6bb3-45fd-e9a0-cfdb533e2899"
      },
      "outputs": [
        {
          "name": "stdout",
          "output_type": "stream",
          "text": [
            "Accuracy 0.6076\n"
          ]
        }
      ],
      "source": [
        "from sklearn import metrics\n",
        "print(\"Accuracy\", metrics.accuracy_score(y_test_full, y_pred04))"
      ]
    },
    {
      "cell_type": "markdown",
      "metadata": {
        "id": "w7x7TgCdcW-0"
      },
      "source": [
        "Model 5:"
      ]
    },
    {
      "cell_type": "code",
      "execution_count": 43,
      "metadata": {
        "colab": {
          "base_uri": "https://localhost:8080/"
        },
        "id": "Vz16GMMecWTg",
        "outputId": "3bf97b6f-c782-4c55-9596-56775d56b71f"
      },
      "outputs": [
        {
          "name": "stdout",
          "output_type": "stream",
          "text": [
            "Model: \"sequential_4\"\n",
            "_________________________________________________________________\n",
            " Layer (type)                Output Shape              Param #   \n",
            "=================================================================\n",
            " conv2d_6 (Conv2D)           (None, 28, 28, 32)        2432      \n",
            "                                                                 \n",
            " conv2d_7 (Conv2D)           (None, 24, 24, 32)        25632     \n",
            "                                                                 \n",
            " max_pooling2d_5 (MaxPooling  (None, 12, 12, 32)       0         \n",
            " 2D)                                                             \n",
            "                                                                 \n",
            " flatten_4 (Flatten)         (None, 4608)              0         \n",
            "                                                                 \n",
            " dense_9 (Dense)             (None, 100)               460900    \n",
            "                                                                 \n",
            " dense_10 (Dense)            (None, 10)                1010      \n",
            "                                                                 \n",
            "=================================================================\n",
            "Total params: 489,974\n",
            "Trainable params: 489,974\n",
            "Non-trainable params: 0\n",
            "_________________________________________________________________\n"
          ]
        }
      ],
      "source": [
        "model = tf.keras.Sequential()\n",
        "model.add(tf.keras.Input(shape=(32,32,3)))\n",
        "model.add(tf.keras.layers.Conv2D(32, kernel_size=(5,5), activation=\"relu\", padding=\"valid\"))\n",
        "model.add(tf.keras.layers.Conv2D(32, kernel_size=(5,5), activation=\"relu\", padding=\"valid\"))\n",
        "model.add(tf.keras.layers.MaxPooling2D(pool_size=(2,2)))\n",
        "model.add(tf.keras.layers.Flatten())\n",
        "model.add(tf.keras.layers.Dense(100, activation=\"relu\"))\n",
        "model.add(tf.keras.layers.Dense(10,activation=\"softmax\"))\n",
        "model.summary()"
      ]
    },
    {
      "cell_type": "code",
      "execution_count": 44,
      "metadata": {
        "colab": {
          "base_uri": "https://localhost:8080/"
        },
        "id": "BHEIVZl7dH97",
        "outputId": "4c8989e5-27d5-44f2-bf21-0c551af97fa8"
      },
      "outputs": [
        {
          "name": "stdout",
          "output_type": "stream",
          "text": [
            "Epoch 1/20\n",
            "1250/1250 [==============================] - 7s 5ms/step - loss: 1.4881 - accuracy: 0.4652 - val_loss: 1.2406 - val_accuracy: 0.5560\n",
            "Epoch 2/20\n",
            "1250/1250 [==============================] - 6s 5ms/step - loss: 1.1575 - accuracy: 0.5909 - val_loss: 1.1370 - val_accuracy: 0.5922\n",
            "Epoch 3/20\n",
            "1250/1250 [==============================] - 6s 5ms/step - loss: 1.0094 - accuracy: 0.6446 - val_loss: 1.0773 - val_accuracy: 0.6196\n",
            "Epoch 4/20\n",
            "1250/1250 [==============================] - 5s 4ms/step - loss: 0.8911 - accuracy: 0.6873 - val_loss: 1.0885 - val_accuracy: 0.6258\n",
            "Epoch 5/20\n",
            "1250/1250 [==============================] - 5s 4ms/step - loss: 0.7942 - accuracy: 0.7228 - val_loss: 1.0338 - val_accuracy: 0.6496\n",
            "Epoch 6/20\n",
            "1250/1250 [==============================] - 5s 4ms/step - loss: 0.7042 - accuracy: 0.7515 - val_loss: 1.0836 - val_accuracy: 0.6462\n",
            "Epoch 7/20\n",
            "1250/1250 [==============================] - 5s 4ms/step - loss: 0.6180 - accuracy: 0.7835 - val_loss: 1.1011 - val_accuracy: 0.6542\n",
            "Epoch 8/20\n",
            "1250/1250 [==============================] - 5s 4ms/step - loss: 0.5438 - accuracy: 0.8083 - val_loss: 1.1857 - val_accuracy: 0.6524\n",
            "Epoch 9/20\n",
            "1250/1250 [==============================] - 5s 4ms/step - loss: 0.4668 - accuracy: 0.8359 - val_loss: 1.2410 - val_accuracy: 0.6498\n",
            "Epoch 10/20\n",
            "1250/1250 [==============================] - 4s 4ms/step - loss: 0.4048 - accuracy: 0.8560 - val_loss: 1.4313 - val_accuracy: 0.6356\n",
            "Epoch 11/20\n",
            "1250/1250 [==============================] - 4s 4ms/step - loss: 0.3420 - accuracy: 0.8781 - val_loss: 1.5292 - val_accuracy: 0.6372\n",
            "Epoch 12/20\n",
            "1250/1250 [==============================] - 4s 4ms/step - loss: 0.2977 - accuracy: 0.8952 - val_loss: 1.6911 - val_accuracy: 0.6314\n",
            "Epoch 13/20\n",
            "1250/1250 [==============================] - 4s 3ms/step - loss: 0.2575 - accuracy: 0.9088 - val_loss: 1.8024 - val_accuracy: 0.6340\n",
            "Epoch 14/20\n",
            "1250/1250 [==============================] - 5s 4ms/step - loss: 0.2217 - accuracy: 0.9217 - val_loss: 1.9756 - val_accuracy: 0.6342\n",
            "Epoch 15/20\n",
            "1250/1250 [==============================] - 4s 4ms/step - loss: 0.1971 - accuracy: 0.9308 - val_loss: 2.0815 - val_accuracy: 0.6224\n",
            "Epoch 16/20\n",
            "1250/1250 [==============================] - 5s 4ms/step - loss: 0.1724 - accuracy: 0.9398 - val_loss: 2.3378 - val_accuracy: 0.6254\n",
            "Epoch 17/20\n",
            "1250/1250 [==============================] - 4s 4ms/step - loss: 0.1616 - accuracy: 0.9432 - val_loss: 2.3578 - val_accuracy: 0.6296\n",
            "Epoch 18/20\n",
            "1250/1250 [==============================] - 5s 4ms/step - loss: 0.1494 - accuracy: 0.9482 - val_loss: 2.5027 - val_accuracy: 0.6272\n",
            "Epoch 19/20\n",
            "1250/1250 [==============================] - 5s 4ms/step - loss: 0.1395 - accuracy: 0.9512 - val_loss: 2.8257 - val_accuracy: 0.6238\n",
            "Epoch 20/20\n",
            "1250/1250 [==============================] - 7s 5ms/step - loss: 0.1251 - accuracy: 0.9578 - val_loss: 2.8328 - val_accuracy: 0.6256\n"
          ]
        }
      ],
      "source": [
        "model.compile(loss=\"sparse_categorical_crossentropy\", optimizer=\"adam\", metrics=[\"accuracy\"])\n",
        "\n",
        "batch_size = 36\n",
        "epochs = 20\n",
        "\n",
        "history = model.fit(x_train_full, y_train_full, batch_size=batch_size, epochs=epochs, validation_split=0.1)"
      ]
    },
    {
      "cell_type": "code",
      "execution_count": 45,
      "metadata": {
        "colab": {
          "base_uri": "https://localhost:8080/",
          "height": 573
        },
        "id": "qsTx3Tshd2vE",
        "outputId": "e35d20b1-5035-4a06-afd9-a6b78b5685d5"
      },
      "outputs": [
        {
          "data": {
            "image/png": "[encoded data removed]",
            "text/plain": [
              "<Figure size 432x288 with 1 Axes>"
            ]
          },
          "metadata": {},
          "output_type": "display_data"
        },
        {
          "data": {
            "image/png": "[encoded data removed]",
            "text/plain": [
              "<Figure size 432x288 with 1 Axes>"
            ]
          },
          "metadata": {},
          "output_type": "display_data"
        }
      ],
      "source": [
        "sns.set_style(\"darkgrid\")\n",
        "#get the details form the history object\n",
        "acc = history.history['accuracy']\n",
        "val_acc = history.history['val_accuracy']\n",
        "loss = history.history['loss']\n",
        "val_loss = history.history['val_loss']\n",
        "\n",
        "epochs = range(1, len(acc) + 1)\n",
        "\n",
        "#Train and validation accuracy\n",
        "plt.plot(epochs, acc, 'b', label='Training accurarcy')\n",
        "plt.plot(epochs, val_acc, 'r', label='Validation accurarcy')\n",
        "plt.xlabel('Epoch #')\n",
        "plt.ylabel('accuracy')\n",
        "plt.title('Training and Validation accurarcy')\n",
        "plt.legend()\n",
        "#plt.savefig('ensemble_seresnext50_eff-b3_graph_test_acc.png')\n",
        "\n",
        "plt.figure()\n",
        "#Train and validation loss\n",
        "plt.plot(epochs, loss, 'b', label='Training loss')\n",
        "plt.plot(epochs, val_loss, 'r', label='Validation loss')\n",
        "plt.xlabel('Epoch #')\n",
        "plt.ylabel('loss')\n",
        "plt.title('Training and Validation loss')\n",
        "plt.legend()\n",
        "#plt.savefig('ensemble_seresnext50_eff-b3_graph_test_loss.png')\n",
        "\n",
        "plt.show()"
      ]
    },
    {
      "cell_type": "code",
      "execution_count": 46,
      "metadata": {
        "colab": {
          "base_uri": "https://localhost:8080/"
        },
        "id": "v6Ctvduld9lE",
        "outputId": "13fbc1cc-de51-4ecb-b9e7-e2984321d6b3"
      },
      "outputs": [
        {
          "name": "stdout",
          "output_type": "stream",
          "text": [
            "313/313 [==============================] - 1s 3ms/step - loss: 2.9636 - accuracy: 0.6107\n"
          ]
        },
        {
          "data": {
            "text/plain": [
              "[2.9636409282684326, 0.6107000112533569]"
            ]
          },
          "execution_count": 46,
          "metadata": {},
          "output_type": "execute_result"
        }
      ],
      "source": [
        "model.evaluate(x_test_full, y_test_full)"
      ]
    },
    {
      "cell_type": "code",
      "execution_count": 47,
      "metadata": {
        "id": "KBis35RWeB60"
      },
      "outputs": [],
      "source": [
        "from sklearn.metrics import classification_report, confusion_matrix\n",
        "Y_pred05 = model.predict(x_test_full, len(y_test_full)//batch_size)"
      ]
    },
    {
      "cell_type": "code",
      "execution_count": 48,
      "metadata": {
        "id": "l7tTjQCHeOLE"
      },
      "outputs": [],
      "source": [
        "y_pred05 = np.argmax(Y_pred05, axis=1)"
      ]
    },
    {
      "cell_type": "code",
      "execution_count": 49,
      "metadata": {
        "colab": {
          "base_uri": "https://localhost:8080/"
        },
        "id": "3XlwFfT4eUsk",
        "outputId": "f7e65a38-1f47-46aa-d160-377ae015c78d"
      },
      "outputs": [
        {
          "name": "stdout",
          "output_type": "stream",
          "text": [
            "Accuracy 0.6107\n"
          ]
        }
      ],
      "source": [
        "from sklearn import metrics\n",
        "print(\"Accuracy\", metrics.accuracy_score(y_test_full, y_pred05))"
      ]
    },
    {
      "cell_type": "markdown",
      "metadata": {
        "id": "vWZ_r4qWemT8"
      },
      "source": [
        "Model 6:"
      ]
    },
    {
      "cell_type": "code",
      "execution_count": 50,
      "metadata": {
        "colab": {
          "base_uri": "https://localhost:8080/"
        },
        "id": "fE0yqCT6ed4-",
        "outputId": "26efaf1a-b068-412e-d6cd-e47fc6b01b3c"
      },
      "outputs": [
        {
          "name": "stdout",
          "output_type": "stream",
          "text": [
            "Model: \"sequential_5\"\n",
            "_________________________________________________________________\n",
            " Layer (type)                Output Shape              Param #   \n",
            "=================================================================\n",
            " conv2d_8 (Conv2D)           (None, 28, 28, 6)         456       \n",
            "                                                                 \n",
            " max_pooling2d_6 (MaxPooling  (None, 14, 14, 6)        0         \n",
            " 2D)                                                             \n",
            "                                                                 \n",
            " conv2d_9 (Conv2D)           (None, 10, 10, 16)        2416      \n",
            "                                                                 \n",
            " max_pooling2d_7 (MaxPooling  (None, 5, 5, 16)         0         \n",
            " 2D)                                                             \n",
            "                                                                 \n",
            " flatten_5 (Flatten)         (None, 400)               0         \n",
            "                                                                 \n",
            " dense_11 (Dense)            (None, 120)               48120     \n",
            "                                                                 \n",
            " dense_12 (Dense)            (None, 84)                10164     \n",
            "                                                                 \n",
            " dense_13 (Dense)            (None, 10)                850       \n",
            "                                                                 \n",
            "=================================================================\n",
            "Total params: 62,006\n",
            "Trainable params: 62,006\n",
            "Non-trainable params: 0\n",
            "_________________________________________________________________\n"
          ]
        }
      ],
      "source": [
        "model = tf.keras.Sequential()\n",
        "model.add(tf.keras.Input(shape=(32,32,3)))\n",
        "model.add(tf.keras.layers.Conv2D(6, kernel_size=(5,5), activation=\"tanh\", padding=\"valid\"))\n",
        "model.add(tf.keras.layers.MaxPooling2D(pool_size=(2,2)))\n",
        " \n",
        "model.add(tf.keras.layers.Conv2D(16, kernel_size=(5,5), activation=\"tanh\", padding=\"valid\"))\n",
        "model.add(tf.keras.layers.MaxPooling2D(pool_size=(2,2)))\n",
        " \n",
        "model.add(tf.keras.layers.Flatten())\n",
        "model.add(tf.keras.layers.Dense(120, activation=\"sigmoid\"))\n",
        "model.add(tf.keras.layers.Dense(84, activation=\"sigmoid\"))\n",
        "model.add(tf.keras.layers.Dense(10,activation=\"softmax\"))\n",
        "model.summary()"
      ]
    },
    {
      "cell_type": "code",
      "execution_count": 51,
      "metadata": {
        "colab": {
          "base_uri": "https://localhost:8080/"
        },
        "id": "xaWT2Nk7fBH9",
        "outputId": "4d6e8428-75c0-4026-850e-49411eb04482"
      },
      "outputs": [
        {
          "name": "stdout",
          "output_type": "stream",
          "text": [
            "Epoch 1/20\n",
            "1407/1407 [==============================] - 6s 4ms/step - loss: 1.7111 - accuracy: 0.3757 - val_loss: 1.4714 - val_accuracy: 0.4704\n",
            "Epoch 2/20\n",
            "1407/1407 [==============================] - 5s 4ms/step - loss: 1.4053 - accuracy: 0.4939 - val_loss: 1.3150 - val_accuracy: 0.5326\n",
            "Epoch 3/20\n",
            "1407/1407 [==============================] - 5s 4ms/step - loss: 1.2830 - accuracy: 0.5367 - val_loss: 1.2414 - val_accuracy: 0.5560\n",
            "Epoch 4/20\n",
            "1407/1407 [==============================] - 5s 4ms/step - loss: 1.1990 - accuracy: 0.5723 - val_loss: 1.1918 - val_accuracy: 0.5770\n",
            "Epoch 5/20\n",
            "1407/1407 [==============================] - 6s 4ms/step - loss: 1.1335 - accuracy: 0.5965 - val_loss: 1.1469 - val_accuracy: 0.5832\n",
            "Epoch 6/20\n",
            "1407/1407 [==============================] - 5s 4ms/step - loss: 1.0762 - accuracy: 0.6169 - val_loss: 1.1536 - val_accuracy: 0.5800\n",
            "Epoch 7/20\n",
            "1407/1407 [==============================] - 5s 4ms/step - loss: 1.0302 - accuracy: 0.6348 - val_loss: 1.1023 - val_accuracy: 0.6082\n",
            "Epoch 8/20\n",
            "1407/1407 [==============================] - 6s 5ms/step - loss: 0.9881 - accuracy: 0.6510 - val_loss: 1.0949 - val_accuracy: 0.6072\n",
            "Epoch 9/20\n",
            "1407/1407 [==============================] - 5s 4ms/step - loss: 0.9517 - accuracy: 0.6669 - val_loss: 1.0800 - val_accuracy: 0.6166\n",
            "Epoch 10/20\n",
            "1407/1407 [==============================] - 5s 4ms/step - loss: 0.9181 - accuracy: 0.6756 - val_loss: 1.0707 - val_accuracy: 0.6226\n",
            "Epoch 11/20\n",
            "1407/1407 [==============================] - 5s 4ms/step - loss: 0.8843 - accuracy: 0.6890 - val_loss: 1.0856 - val_accuracy: 0.6200\n",
            "Epoch 12/20\n",
            "1407/1407 [==============================] - 5s 4ms/step - loss: 0.8535 - accuracy: 0.6985 - val_loss: 1.0919 - val_accuracy: 0.6214\n",
            "Epoch 13/20\n",
            "1407/1407 [==============================] - 5s 4ms/step - loss: 0.8272 - accuracy: 0.7080 - val_loss: 1.1055 - val_accuracy: 0.6156\n",
            "Epoch 14/20\n",
            "1407/1407 [==============================] - 5s 4ms/step - loss: 0.7998 - accuracy: 0.7188 - val_loss: 1.1047 - val_accuracy: 0.6180\n",
            "Epoch 15/20\n",
            "1407/1407 [==============================] - 5s 4ms/step - loss: 0.7724 - accuracy: 0.7286 - val_loss: 1.1363 - val_accuracy: 0.6112\n",
            "Epoch 16/20\n",
            "1407/1407 [==============================] - 5s 4ms/step - loss: 0.7505 - accuracy: 0.7363 - val_loss: 1.1365 - val_accuracy: 0.6156\n",
            "Epoch 17/20\n",
            "1407/1407 [==============================] - 5s 4ms/step - loss: 0.7244 - accuracy: 0.7458 - val_loss: 1.1272 - val_accuracy: 0.6214\n",
            "Epoch 18/20\n",
            "1407/1407 [==============================] - 5s 4ms/step - loss: 0.7053 - accuracy: 0.7509 - val_loss: 1.1441 - val_accuracy: 0.6196\n",
            "Epoch 19/20\n",
            "1407/1407 [==============================] - 5s 4ms/step - loss: 0.6832 - accuracy: 0.7598 - val_loss: 1.1796 - val_accuracy: 0.6122\n",
            "Epoch 20/20\n",
            "1407/1407 [==============================] - 6s 4ms/step - loss: 0.6580 - accuracy: 0.7698 - val_loss: 1.1937 - val_accuracy: 0.6136\n"
          ]
        }
      ],
      "source": [
        "model.compile(loss=\"sparse_categorical_crossentropy\", optimizer=\"adam\", metrics=[\"accuracy\"])\n",
        "\n",
        "batch_size = 32\n",
        "epochs = 20\n",
        "\n",
        "history = model.fit(x_train_full, y_train_full, batch_size=batch_size, epochs=epochs, validation_split=0.1)"
      ]
    },
    {
      "cell_type": "code",
      "execution_count": 52,
      "metadata": {
        "colab": {
          "base_uri": "https://localhost:8080/"
        },
        "id": "MZA7LgOHf__V",
        "outputId": "6b350845-9342-47ed-b91f-286f1fbd9a81"
      },
      "outputs": [
        {
          "name": "stdout",
          "output_type": "stream",
          "text": [
            "313/313 [==============================] - 1s 3ms/step - loss: 1.2108 - accuracy: 0.6150\n"
          ]
        },
        {
          "data": {
            "text/plain": [
              "[1.2108380794525146, 0.6150000095367432]"
            ]
          },
          "execution_count": 52,
          "metadata": {},
          "output_type": "execute_result"
        }
      ],
      "source": [
        "model.evaluate(x_test_full, y_test_full)"
      ]
    },
    {
      "cell_type": "code",
      "execution_count": 53,
      "metadata": {
        "id": "4wi7tImXgPnH"
      },
      "outputs": [],
      "source": [
        "from sklearn.metrics import classification_report, confusion_matrix\n",
        "Y_pred06 = model.predict(x_test_full, len(y_test_full)//batch_size)"
      ]
    },
    {
      "cell_type": "code",
      "execution_count": 54,
      "metadata": {
        "id": "U1lQw8MQgYWV"
      },
      "outputs": [],
      "source": [
        "y_pred06 = np.argmax(Y_pred06, axis=1)"
      ]
    },
    {
      "cell_type": "code",
      "execution_count": 55,
      "metadata": {
        "colab": {
          "base_uri": "https://localhost:8080/"
        },
        "id": "1g9GALUegpC-",
        "outputId": "c2d85976-25c5-42c1-fa19-61c876df360e"
      },
      "outputs": [
        {
          "name": "stdout",
          "output_type": "stream",
          "text": [
            "Accuracy 0.615\n"
          ]
        }
      ],
      "source": [
        "from sklearn import metrics\n",
        "print(\"Accuracy\", metrics.accuracy_score(y_test_full, y_pred06))"
      ]
    },
    {
      "cell_type": "code",
      "execution_count": 56,
      "metadata": {
        "colab": {
          "base_uri": "https://localhost:8080/",
          "height": 573
        },
        "id": "0JIiOgpZg292",
        "outputId": "c0c8a26d-9ad6-48c8-d34f-497f92b7e075"
      },
      "outputs": [
        {
          "data": {
            "image/png": "[encoded data removed]",
            "text/plain": [
              "<Figure size 432x288 with 1 Axes>"
            ]
          },
          "metadata": {},
          "output_type": "display_data"
        },
        {
          "data": {
            "image/png": "[encoded data removed]",
            "text/plain": [
              "<Figure size 432x288 with 1 Axes>"
            ]
          },
          "metadata": {},
          "output_type": "display_data"
        }
      ],
      "source": [
        "sns.set_style(\"darkgrid\")\n",
        "#get the details form the history object\n",
        "acc = history.history['accuracy']\n",
        "val_acc = history.history['val_accuracy']\n",
        "loss = history.history['loss']\n",
        "val_loss = history.history['val_loss']\n",
        "\n",
        "epochs = range(1, len(acc) + 1)\n",
        "\n",
        "#Train and validation accuracy\n",
        "plt.plot(epochs, acc, 'b', label='Training accurarcy')\n",
        "plt.plot(epochs, val_acc, 'r', label='Validation accurarcy')\n",
        "plt.xlabel('Epoch #')\n",
        "plt.ylabel('accuracy')\n",
        "plt.title('Training and Validation accurarcy')\n",
        "plt.legend()\n",
        "#plt.savefig('ensemble_seresnext50_eff-b3_graph_test_acc.png')\n",
        "\n",
        "plt.figure()\n",
        "#Train and validation loss\n",
        "plt.plot(epochs, loss, 'b', label='Training loss')\n",
        "plt.plot(epochs, val_loss, 'r', label='Validation loss')\n",
        "plt.xlabel('Epoch #')\n",
        "plt.ylabel('loss')\n",
        "plt.title('Training and Validation loss')\n",
        "plt.legend()\n",
        "#plt.savefig('ensemble_seresnext50_eff-b3_graph_test_loss.png')\n",
        "\n",
        "plt.show()"
      ]
    },
    {
      "cell_type": "markdown",
      "metadata": {
        "id": "T2YSGrq2nX9f"
      },
      "source": [
        "Performance Comparison:"
      ]
    },
    {
      "cell_type": "code",
      "execution_count": null,
      "metadata": {
        "colab": {
          "base_uri": "https://localhost:8080/",
          "height": 35
        },
        "id": "zMAmMpWmnai3",
        "outputId": "ca4e0034-a4fd-4bf2-ac8a-bfed1a84f074"
      },
      "outputs": [
        {
          "data": {
            "application/vnd.google.colaboratory.intrinsic+json": {
              "type": "string"
            },
            "text/plain": [
              "'\\n\\n\\n'"
            ]
          },
          "execution_count": 162,
          "metadata": {},
          "output_type": "execute_result"
        }
      ],
      "source": [
        "'''\n",
        "MNIST DATASET:\n",
        "TEST ACCURACY FOR [1-CONV LAYER, 2-CONV LAYER, LeNet5 Architecture] = [98.91, 99.08, 98.64]\n",
        "We get higher accuracies for MNIST DATASET. There is very less overfitting in the dataset. Back to Back two layer CNN performs the best out of all the three\n",
        "architectures.\n",
        "\n",
        "\n",
        "CIFAR-10 DATASET:\n",
        "TEST ACCURACY FOR [1-CONV LAYER, 2-CONV LAYER, LeNet5 Architecture] = [60.76,61.07, 61.50]\n",
        "We again get higher accuracy for LeNet Architecture for this dataset. We'll try to optimise the architecture to obtain improved accuracy for LeNet architecture \n",
        "on CIFAR10 DATASET. \n",
        "\n",
        "\n",
        "'''"
      ]
    },
    {
      "cell_type": "markdown",
      "metadata": {
        "id": "Gd4KfGFo5lWD"
      },
      "source": [
        "Performance Optimisation for the LeNet Architecture Model of CIFAR-10 DATASET"
      ]
    },
    {
      "cell_type": "code",
      "execution_count": 66,
      "metadata": {
        "colab": {
          "base_uri": "https://localhost:8080/"
        },
        "id": "leeYwHrQ5kYV",
        "outputId": "ab8261a5-b881-4f2b-9385-f7638a32bafe"
      },
      "outputs": [
        {
          "name": "stdout",
          "output_type": "stream",
          "text": [
            "Model: \"sequential_8\"\n",
            "_________________________________________________________________\n",
            " Layer (type)                Output Shape              Param #   \n",
            "=================================================================\n",
            " conv2d_14 (Conv2D)          (None, 28, 28, 6)         456       \n",
            "                                                                 \n",
            " max_pooling2d_12 (MaxPoolin  (None, 14, 14, 6)        0         \n",
            " g2D)                                                            \n",
            "                                                                 \n",
            " dropout_3 (Dropout)         (None, 14, 14, 6)         0         \n",
            "                                                                 \n",
            " conv2d_15 (Conv2D)          (None, 10, 10, 16)        2416      \n",
            "                                                                 \n",
            " max_pooling2d_13 (MaxPoolin  (None, 5, 5, 16)         0         \n",
            " g2D)                                                            \n",
            "                                                                 \n",
            " dropout_4 (Dropout)         (None, 5, 5, 16)          0         \n",
            "                                                                 \n",
            " flatten_8 (Flatten)         (None, 400)               0         \n",
            "                                                                 \n",
            " dense_20 (Dense)            (None, 120)               48120     \n",
            "                                                                 \n",
            " dense_21 (Dense)            (None, 84)                10164     \n",
            "                                                                 \n",
            " dense_22 (Dense)            (None, 10)                850       \n",
            "                                                                 \n",
            "=================================================================\n",
            "Total params: 62,006\n",
            "Trainable params: 62,006\n",
            "Non-trainable params: 0\n",
            "_________________________________________________________________\n"
          ]
        }
      ],
      "source": [
        "model = tf.keras.Sequential()\n",
        "model.add(tf.keras.Input(shape=(32,32,3)))\n",
        "model.add(tf.keras.layers.Conv2D(6, kernel_size=(5,5), activation=\"tanh\", padding=\"valid\"))\n",
        "model.add(tf.keras.layers.MaxPooling2D(pool_size=(2,2)))\n",
        "model.add(tf.keras.layers.Dropout(0.2))\n",
        "model.add(tf.keras.layers.Conv2D(16, kernel_size=(5,5), activation=\"tanh\", padding=\"valid\"))\n",
        "model.add(tf.keras.layers.MaxPooling2D(pool_size=(2,2)))\n",
        "model.add(tf.keras.layers.Dropout(0.2)) \n",
        "model.add(tf.keras.layers.Flatten())\n",
        "model.add(tf.keras.layers.Dense(120, activation=\"sigmoid\"))\n",
        "model.add(tf.keras.layers.Dense(84, activation=\"sigmoid\"))\n",
        "model.add(tf.keras.layers.Dense(10,activation=\"softmax\"))\n",
        "model.summary()"
      ]
    },
    {
      "cell_type": "code",
      "execution_count": 67,
      "metadata": {
        "colab": {
          "base_uri": "https://localhost:8080/"
        },
        "id": "7ppAcfkj54E4",
        "outputId": "4f50478d-058b-41f0-f4a4-78552d873736"
      },
      "outputs": [
        {
          "name": "stdout",
          "output_type": "stream",
          "text": [
            "Epoch 1/40\n",
            "2046/2046 [==============================] - 10s 4ms/step - loss: 1.7571 - accuracy: 0.3547 - val_loss: 1.5291 - val_accuracy: 0.4440\n",
            "Epoch 2/40\n",
            "2046/2046 [==============================] - 8s 4ms/step - loss: 1.4980 - accuracy: 0.4584 - val_loss: 1.4223 - val_accuracy: 0.4872\n",
            "Epoch 3/40\n",
            "2046/2046 [==============================] - 8s 4ms/step - loss: 1.4003 - accuracy: 0.4960 - val_loss: 1.3097 - val_accuracy: 0.5242\n",
            "Epoch 4/40\n",
            "2046/2046 [==============================] - 8s 4ms/step - loss: 1.3400 - accuracy: 0.5175 - val_loss: 1.2340 - val_accuracy: 0.5584\n",
            "Epoch 5/40\n",
            "2046/2046 [==============================] - 7s 4ms/step - loss: 1.2819 - accuracy: 0.5389 - val_loss: 1.2213 - val_accuracy: 0.5668\n",
            "Epoch 6/40\n",
            "2046/2046 [==============================] - 8s 4ms/step - loss: 1.2407 - accuracy: 0.5549 - val_loss: 1.1803 - val_accuracy: 0.5734\n",
            "Epoch 7/40\n",
            "2046/2046 [==============================] - 8s 4ms/step - loss: 1.2068 - accuracy: 0.5674 - val_loss: 1.1817 - val_accuracy: 0.5752\n",
            "Epoch 8/40\n",
            "2046/2046 [==============================] - 8s 4ms/step - loss: 1.1803 - accuracy: 0.5786 - val_loss: 1.1310 - val_accuracy: 0.6004\n",
            "Epoch 9/40\n",
            "2046/2046 [==============================] - 7s 4ms/step - loss: 1.1508 - accuracy: 0.5912 - val_loss: 1.0958 - val_accuracy: 0.6096\n",
            "Epoch 10/40\n",
            "2046/2046 [==============================] - 8s 4ms/step - loss: 1.1317 - accuracy: 0.5974 - val_loss: 1.1330 - val_accuracy: 0.5960\n",
            "Epoch 11/40\n",
            "2046/2046 [==============================] - 8s 4ms/step - loss: 1.1170 - accuracy: 0.6017 - val_loss: 1.0649 - val_accuracy: 0.6224\n",
            "Epoch 12/40\n",
            "2046/2046 [==============================] - 9s 4ms/step - loss: 1.1001 - accuracy: 0.6108 - val_loss: 1.1107 - val_accuracy: 0.6096\n",
            "Epoch 13/40\n",
            "2046/2046 [==============================] - 7s 4ms/step - loss: 1.0830 - accuracy: 0.6153 - val_loss: 1.0767 - val_accuracy: 0.6232\n",
            "Epoch 14/40\n",
            "2046/2046 [==============================] - 8s 4ms/step - loss: 1.0718 - accuracy: 0.6182 - val_loss: 1.0857 - val_accuracy: 0.6222\n",
            "Epoch 15/40\n",
            "2046/2046 [==============================] - 8s 4ms/step - loss: 1.0572 - accuracy: 0.6232 - val_loss: 1.0477 - val_accuracy: 0.6274\n",
            "Epoch 16/40\n",
            "2046/2046 [==============================] - 8s 4ms/step - loss: 1.0465 - accuracy: 0.6296 - val_loss: 1.0621 - val_accuracy: 0.6232\n",
            "Epoch 17/40\n",
            "2046/2046 [==============================] - 8s 4ms/step - loss: 1.0305 - accuracy: 0.6348 - val_loss: 1.0303 - val_accuracy: 0.6406\n",
            "Epoch 18/40\n",
            "2046/2046 [==============================] - 8s 4ms/step - loss: 1.0219 - accuracy: 0.6376 - val_loss: 1.0438 - val_accuracy: 0.6338\n",
            "Epoch 19/40\n",
            "2046/2046 [==============================] - 8s 4ms/step - loss: 1.0152 - accuracy: 0.6390 - val_loss: 1.0200 - val_accuracy: 0.6432\n",
            "Epoch 20/40\n",
            "2046/2046 [==============================] - 8s 4ms/step - loss: 1.0071 - accuracy: 0.6427 - val_loss: 1.0595 - val_accuracy: 0.6298\n",
            "Epoch 21/40\n",
            "2046/2046 [==============================] - 8s 4ms/step - loss: 0.9988 - accuracy: 0.6449 - val_loss: 1.0187 - val_accuracy: 0.6372\n",
            "Epoch 22/40\n",
            "2046/2046 [==============================] - 8s 4ms/step - loss: 0.9949 - accuracy: 0.6460 - val_loss: 1.0395 - val_accuracy: 0.6258\n",
            "Epoch 23/40\n",
            "2046/2046 [==============================] - 9s 4ms/step - loss: 0.9813 - accuracy: 0.6537 - val_loss: 1.0297 - val_accuracy: 0.6384\n",
            "Epoch 24/40\n",
            "2046/2046 [==============================] - 8s 4ms/step - loss: 0.9750 - accuracy: 0.6550 - val_loss: 1.0142 - val_accuracy: 0.6394\n",
            "Epoch 25/40\n",
            "2046/2046 [==============================] - 8s 4ms/step - loss: 0.9737 - accuracy: 0.6531 - val_loss: 1.0046 - val_accuracy: 0.6490\n",
            "Epoch 26/40\n",
            "2046/2046 [==============================] - 8s 4ms/step - loss: 0.9692 - accuracy: 0.6550 - val_loss: 1.0342 - val_accuracy: 0.6362\n",
            "Epoch 27/40\n",
            "2046/2046 [==============================] - 8s 4ms/step - loss: 0.9615 - accuracy: 0.6572 - val_loss: 1.1228 - val_accuracy: 0.6104\n",
            "Epoch 28/40\n",
            "2046/2046 [==============================] - 8s 4ms/step - loss: 0.9577 - accuracy: 0.6605 - val_loss: 1.0433 - val_accuracy: 0.6384\n",
            "Epoch 29/40\n",
            "2046/2046 [==============================] - 8s 4ms/step - loss: 0.9531 - accuracy: 0.6614 - val_loss: 1.0044 - val_accuracy: 0.6454\n",
            "Epoch 30/40\n",
            "2046/2046 [==============================] - 8s 4ms/step - loss: 0.9461 - accuracy: 0.6630 - val_loss: 1.0068 - val_accuracy: 0.6478\n",
            "Epoch 31/40\n",
            "2046/2046 [==============================] - 8s 4ms/step - loss: 0.9411 - accuracy: 0.6641 - val_loss: 1.0554 - val_accuracy: 0.6340\n",
            "Epoch 32/40\n",
            "2046/2046 [==============================] - 8s 4ms/step - loss: 0.9354 - accuracy: 0.6690 - val_loss: 1.0448 - val_accuracy: 0.6438\n",
            "Epoch 33/40\n",
            "2046/2046 [==============================] - 8s 4ms/step - loss: 0.9317 - accuracy: 0.6693 - val_loss: 0.9922 - val_accuracy: 0.6474\n",
            "Epoch 34/40\n",
            "2046/2046 [==============================] - 8s 4ms/step - loss: 0.9291 - accuracy: 0.6703 - val_loss: 1.0285 - val_accuracy: 0.6458\n",
            "Epoch 35/40\n",
            "2046/2046 [==============================] - 8s 4ms/step - loss: 0.9245 - accuracy: 0.6707 - val_loss: 1.0320 - val_accuracy: 0.6422\n",
            "Epoch 36/40\n",
            "2046/2046 [==============================] - 8s 4ms/step - loss: 0.9219 - accuracy: 0.6738 - val_loss: 0.9931 - val_accuracy: 0.6538\n",
            "Epoch 37/40\n",
            "2046/2046 [==============================] - 8s 4ms/step - loss: 0.9122 - accuracy: 0.6762 - val_loss: 1.0033 - val_accuracy: 0.6516\n",
            "Epoch 38/40\n",
            "2046/2046 [==============================] - 8s 4ms/step - loss: 0.9171 - accuracy: 0.6751 - val_loss: 0.9983 - val_accuracy: 0.6510\n",
            "Epoch 39/40\n",
            "2046/2046 [==============================] - 8s 4ms/step - loss: 0.9119 - accuracy: 0.6762 - val_loss: 1.0251 - val_accuracy: 0.6436\n",
            "Epoch 40/40\n",
            "2046/2046 [==============================] - 8s 4ms/step - loss: 0.9084 - accuracy: 0.6776 - val_loss: 0.9933 - val_accuracy: 0.6484\n"
          ]
        }
      ],
      "source": [
        "model.compile(loss=\"sparse_categorical_crossentropy\", optimizer=\"adam\", metrics=[\"accuracy\"])\n",
        "\n",
        "batch_size = 22\n",
        "epochs = 40\n",
        "\n",
        "history = model.fit(x_train_full, y_train_full, batch_size=batch_size, epochs=epochs, validation_split=0.1)"
      ]
    },
    {
      "cell_type": "code",
      "execution_count": 68,
      "metadata": {
        "colab": {
          "base_uri": "https://localhost:8080/"
        },
        "id": "nrazFfx058ES",
        "outputId": "d844c0b0-1e16-40e6-b279-98ff892c84c4"
      },
      "outputs": [
        {
          "name": "stdout",
          "output_type": "stream",
          "text": [
            "313/313 [==============================] - 1s 3ms/step - loss: 1.0276 - accuracy: 0.6475\n"
          ]
        },
        {
          "data": {
            "text/plain": [
              "[1.0276256799697876, 0.6474999785423279]"
            ]
          },
          "execution_count": 68,
          "metadata": {},
          "output_type": "execute_result"
        }
      ],
      "source": [
        "model.evaluate(x_test_full, y_test_full)"
      ]
    },
    {
      "cell_type": "code",
      "execution_count": 72,
      "metadata": {
        "colab": {
          "base_uri": "https://localhost:8080/",
          "height": 54
        },
        "id": "AexDnXxm8RiA",
        "outputId": "11965952-9ad6-4e93-9be9-ddbffb921256"
      },
      "outputs": [
        {
          "data": {
            "application/vnd.google.colaboratory.intrinsic+json": {
              "type": "string"
            },
            "text/plain": [
              "' Although the training accuracy has improved significantly but the testing accuracy has improved from 61.50 to 64.75 after dropping out 20% of data after \\napplying CNN in every layer of LeNet Architecture. Decreasing the batch size to 22 and increasing number of epochs to 40 results in imporved accuracy.'"
            ]
          },
          "execution_count": 72,
          "metadata": {},
          "output_type": "execute_result"
        }
      ],
      "source": [
        "''' Although the training accuracy has improved significantly but the testing accuracy has improved from 61.50 to 64.75 after dropping out 20% of data after \n",
        "applying CNN in every layer of LeNet Architecture. Decreasing the batch size to 22 and increasing number of epochs to 40 results in imporved accuracy.'''"
      ]
    },
    {
      "cell_type": "markdown",
      "metadata": {
        "id": "IGLpyCTm-V8n"
      },
      "source": [
        "##Final Remarks after training dataset\n",
        "\n",
        "* Therefore the best architecture for MNIST Dataset Is Back to Back Convolution \n",
        "Layer Architecture.\n",
        "------------------------------------------------------------------------------- \n",
        "* For CIFAR-10 Dataset Is LeNet Architecture. Its accuracy improves on dropping out 20% of the dataset after every convolution.\n",
        "-------------------------------------------------------------------------------\n",
        "* Dropout Regularization — Three dropout layers with a hyperparameter of 20% was added after the pooling layers and some fully connected layers.\n",
        "Intuition — By randomly dropping 20% of the neurons while training, we try to get the network to generalize better by simply not relying too much on any particular neurons to produce an output.\n",
        "-------------------------------------------------------------------------------\n",
        "* Accuracy Improves for other architectures too with the same changes. These measures help to reduce overfitting in the dataset. Increasing dropouts further imporves the accuracy"
      ]
    }
  ],
  "metadata": {
    "accelerator": "GPU",
    "colab": {
      "name": "lab_03.ipynb",
      "provenance": []
    },
    "gpuClass": "standard",
    "kernelspec": {
      "display_name": "Python 3.9.7 ('base')",
      "language": "python",
      "name": "python3"
    },
    "language_info": {
      "name": "python",
      "version": "3.9.7"
    },
    "vscode": {
      "interpreter": {
        "hash": "7511ec517401714d5cceeae2e66b6757fb5b948849134eecdaaa23876658fa97"
      }
    }
  },
  "nbformat": 4,
  "nbformat_minor": 0
}
